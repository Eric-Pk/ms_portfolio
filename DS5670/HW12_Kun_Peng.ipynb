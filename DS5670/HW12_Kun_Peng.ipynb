{
  "nbformat": 4,
  "nbformat_minor": 0,
  "metadata": {
    "colab": {
      "provenance": []
    },
    "kernelspec": {
      "name": "python3",
      "display_name": "Python 3"
    },
    "language_info": {
      "name": "python"
    }
  },
  "cells": [
    {
      "cell_type": "markdown",
      "source": [
        "# Introduction to Latent Dirichlet Allocation\n",
        "In this notebook you will\n",
        "- Train an LDA model on the reading_600 dataset\n",
        "- Use the model to investigate the topics present\n",
        "- Test the model on a held-out test set to see how well the LDA topics align with the domains in the dataset"
      ],
      "metadata": {
        "id": "FzWeV-XB6aXb"
      }
    },
    {
      "cell_type": "markdown",
      "source": [
        "## Load the dataset"
      ],
      "metadata": {
        "id": "vDBHEfSK7Vti"
      }
    },
    {
      "cell_type": "code",
      "source": [
        "# My colab was having a problem with pandas and numpy\n",
        "\n",
        "#!pip install --upgrade --force-reinstall pandas numpy\n",
        "#!pip install --upgrade pandas numpy\n",
        "\n",
        "!pip install numpy==1.23.5\n",
        "!pip install pandas==1.5.3"
      ],
      "metadata": {
        "colab": {
          "base_uri": "https://localhost:8080/",
          "height": 742
        },
        "id": "WJMAMslaUoD8",
        "outputId": "cdbe056b-f3d3-4d2a-f978-b8700c103c02"
      },
      "execution_count": null,
      "outputs": [
        {
          "output_type": "stream",
          "name": "stdout",
          "text": [
            "Collecting numpy==1.23.5\n",
            "  Downloading numpy-1.23.5-cp311-cp311-manylinux_2_17_x86_64.manylinux2014_x86_64.whl.metadata (2.3 kB)\n",
            "Downloading numpy-1.23.5-cp311-cp311-manylinux_2_17_x86_64.manylinux2014_x86_64.whl (17.1 MB)\n",
            "\u001b[2K   \u001b[90m━━━━━━━━━━━━━━━━━━━━━━━━━━━━━━━━━━━━━━━━\u001b[0m \u001b[32m17.1/17.1 MB\u001b[0m \u001b[31m50.6 MB/s\u001b[0m eta \u001b[36m0:00:00\u001b[0m\n",
            "\u001b[?25hInstalling collected packages: numpy\n",
            "  Attempting uninstall: numpy\n",
            "    Found existing installation: numpy 2.2.4\n",
            "    Uninstalling numpy-2.2.4:\n",
            "      Successfully uninstalled numpy-2.2.4\n",
            "\u001b[31mERROR: pip's dependency resolver does not currently take into account all the packages that are installed. This behaviour is the source of the following dependency conflicts.\n",
            "pyldavis 3.4.1 requires numpy>=1.24.2, but you have numpy 1.23.5 which is incompatible.\n",
            "google-colab 1.0.0 requires pandas==2.2.2, but you have pandas 2.2.3 which is incompatible.\n",
            "albumentations 2.0.5 requires numpy>=1.24.4, but you have numpy 1.23.5 which is incompatible.\n",
            "albucore 0.0.23 requires numpy>=1.24.4, but you have numpy 1.23.5 which is incompatible.\n",
            "treescope 0.1.9 requires numpy>=1.25.2, but you have numpy 1.23.5 which is incompatible.\n",
            "pymc 5.21.1 requires numpy>=1.25.0, but you have numpy 1.23.5 which is incompatible.\n",
            "tensorflow 2.18.0 requires numpy<2.1.0,>=1.26.0, but you have numpy 1.23.5 which is incompatible.\n",
            "imbalanced-learn 0.13.0 requires numpy<3,>=1.24.3, but you have numpy 1.23.5 which is incompatible.\n",
            "chex 0.1.89 requires numpy>=1.24.1, but you have numpy 1.23.5 which is incompatible.\n",
            "bigframes 1.40.0 requires numpy>=1.24.0, but you have numpy 1.23.5 which is incompatible.\n",
            "scikit-image 0.25.2 requires numpy>=1.24, but you have numpy 1.23.5 which is incompatible.\n",
            "jax 0.5.2 requires numpy>=1.25, but you have numpy 1.23.5 which is incompatible.\n",
            "jaxlib 0.5.1 requires numpy>=1.25, but you have numpy 1.23.5 which is incompatible.\n",
            "xarray 2025.1.2 requires numpy>=1.24, but you have numpy 1.23.5 which is incompatible.\n",
            "blosc2 3.2.0 requires numpy>=1.26, but you have numpy 1.23.5 which is incompatible.\u001b[0m\u001b[31m\n",
            "\u001b[0mSuccessfully installed numpy-1.23.5\n"
          ]
        },
        {
          "output_type": "display_data",
          "data": {
            "application/vnd.colab-display-data+json": {
              "pip_warning": {
                "packages": [
                  "numpy"
                ]
              },
              "id": "5a02d705e52e4ce293ee6bf00f670411"
            }
          },
          "metadata": {}
        },
        {
          "output_type": "stream",
          "name": "stdout",
          "text": [
            "Collecting pandas==1.5.3\n",
            "  Downloading pandas-1.5.3-cp311-cp311-manylinux_2_17_x86_64.manylinux2014_x86_64.whl.metadata (11 kB)\n",
            "Requirement already satisfied: python-dateutil>=2.8.1 in /usr/local/lib/python3.11/dist-packages (from pandas==1.5.3) (2.9.0.post0)\n",
            "Requirement already satisfied: pytz>=2020.1 in /usr/local/lib/python3.11/dist-packages (from pandas==1.5.3) (2025.1)\n",
            "Requirement already satisfied: numpy>=1.21.0 in /usr/local/lib/python3.11/dist-packages (from pandas==1.5.3) (1.23.5)\n",
            "Requirement already satisfied: six>=1.5 in /usr/local/lib/python3.11/dist-packages (from python-dateutil>=2.8.1->pandas==1.5.3) (1.17.0)\n",
            "Downloading pandas-1.5.3-cp311-cp311-manylinux_2_17_x86_64.manylinux2014_x86_64.whl (12.0 MB)\n",
            "\u001b[2K   \u001b[90m━━━━━━━━━━━━━━━━━━━━━━━━━━━━━━━━━━━━━━━━\u001b[0m \u001b[32m12.0/12.0 MB\u001b[0m \u001b[31m72.0 MB/s\u001b[0m eta \u001b[36m0:00:00\u001b[0m\n",
            "\u001b[?25h^C\n"
          ]
        }
      ]
    },
    {
      "cell_type": "code",
      "execution_count": null,
      "metadata": {
        "colab": {
          "base_uri": "https://localhost:8080/"
        },
        "id": "7PadljXUNfrR",
        "outputId": "fe1851c7-6353-4e51-dddf-0cce6b61ef32"
      },
      "outputs": [
        {
          "output_type": "stream",
          "name": "stdout",
          "text": [
            "\u001b[31mERROR: pip's dependency resolver does not currently take into account all the packages that are installed. This behaviour is the source of the following dependency conflicts.\n",
            "google-colab 1.0.0 requires pandas==2.2.2, but you have pandas 2.2.3 which is incompatible.\u001b[0m\u001b[31m\n",
            "\u001b[0m"
          ]
        }
      ],
      "source": [
        "!pip install pyLDAvis  --quiet # For visualization\n",
        "from google.colab import drive\n",
        "import numpy as np\n",
        "import pandas as pd\n",
        "\n",
        "# for machine learning stuff\n",
        "from sklearn.model_selection import train_test_split\n",
        "from sklearn.metrics import (  # Metrics\n",
        "    accuracy_score,\n",
        "    precision_score,\n",
        "    recall_score,\n",
        "    adjusted_rand_score,\n",
        ")\n",
        "\n",
        "# All the gensim stuf\n",
        "from gensim.parsing.preprocessing import (  # Preprocessing tools from topic modeling library\n",
        "    preprocess_string,\n",
        "    strip_punctuation,\n",
        "    strip_multiple_whitespaces,\n",
        "    strip_numeric,\n",
        "    remove_stopwords,\n",
        ")\n",
        "from gensim.corpora import Dictionary\n",
        "from gensim.models import LdaModel  # The LDA model\n",
        "from gensim.models import CoherenceModel  # For coherence\n",
        "\n",
        "import matplotlib.pyplot as plt  # For viz\n",
        "import pyLDAvis.gensim"
      ]
    },
    {
      "cell_type": "code",
      "source": [
        "# Below will prompt for authorization\n",
        "drive.mount('/content/drive')"
      ],
      "metadata": {
        "colab": {
          "base_uri": "https://localhost:8080/"
        },
        "id": "F27QhvhLKtzp",
        "outputId": "c9bdc89f-5fa4-4cdc-bff2-7de717a3ad59"
      },
      "execution_count": null,
      "outputs": [
        {
          "output_type": "stream",
          "name": "stdout",
          "text": [
            "Mounted at /content/drive\n"
          ]
        }
      ]
    },
    {
      "cell_type": "code",
      "source": [
        "df = pd.read_csv(\n",
        "    \"/content/drive/MyDrive/Colab_Notebooks/DS_5780_spring_25/data/reading_2019/reading_600_texts.csv\",\n",
        "    #\"/content/drive/MyDrive/Colab_Notebooks/DS_5780_spring_25/data/writing_long/writing_data_w_meta_data.csv\",\n",
        "    encoding='ISO-8859-1'\n",
        "    )\n",
        "\n",
        "# We always want to look at the information about the dataset as a sanity check.\n",
        "df.info()"
      ],
      "metadata": {
        "colab": {
          "base_uri": "https://localhost:8080/"
        },
        "id": "xAvk0YX2J2X1",
        "outputId": "138a336b-e486-4865-92cc-15ea6b22a7e7"
      },
      "execution_count": null,
      "outputs": [
        {
          "output_type": "stream",
          "name": "stdout",
          "text": [
            "<class 'pandas.core.frame.DataFrame'>\n",
            "RangeIndex: 591 entries, 0 to 590\n",
            "Data columns (total 7 columns):\n",
            " #   Column          Non-Null Count  Dtype  \n",
            "---  ------          --------------  -----  \n",
            " 0   id              591 non-null    int64  \n",
            " 1   text            591 non-null    object \n",
            " 2   bt_readability  591 non-null    float64\n",
            " 3   Source          588 non-null    object \n",
            " 4   Topic           591 non-null    object \n",
            " 5   Text type       591 non-null    object \n",
            " 6   Domain          591 non-null    object \n",
            "dtypes: float64(1), int64(1), object(5)\n",
            "memory usage: 32.4+ KB\n"
          ]
        }
      ]
    },
    {
      "cell_type": "markdown",
      "source": [
        "Let's take a look at the domains present in the dataset.\n",
        "\n",
        "It looks like these are essays about science, technology, and history."
      ],
      "metadata": {
        "id": "m0rSEF-E7Y34"
      }
    },
    {
      "cell_type": "code",
      "source": [
        "df['Domain'].value_counts()"
      ],
      "metadata": {
        "colab": {
          "base_uri": "https://localhost:8080/",
          "height": 209
        },
        "id": "FKx3k4iA3GA0",
        "outputId": "5ba314c2-9ceb-4d21-8903-74d3dd960d20"
      },
      "execution_count": null,
      "outputs": [
        {
          "output_type": "execute_result",
          "data": {
            "text/plain": [
              "Domain\n",
              "History       199\n",
              "Science       197\n",
              "Technology    195\n",
              "Name: count, dtype: int64"
            ],
            "text/html": [
              "<div>\n",
              "<style scoped>\n",
              "    .dataframe tbody tr th:only-of-type {\n",
              "        vertical-align: middle;\n",
              "    }\n",
              "\n",
              "    .dataframe tbody tr th {\n",
              "        vertical-align: top;\n",
              "    }\n",
              "\n",
              "    .dataframe thead th {\n",
              "        text-align: right;\n",
              "    }\n",
              "</style>\n",
              "<table border=\"1\" class=\"dataframe\">\n",
              "  <thead>\n",
              "    <tr style=\"text-align: right;\">\n",
              "      <th></th>\n",
              "      <th>count</th>\n",
              "    </tr>\n",
              "    <tr>\n",
              "      <th>Domain</th>\n",
              "      <th></th>\n",
              "    </tr>\n",
              "  </thead>\n",
              "  <tbody>\n",
              "    <tr>\n",
              "      <th>History</th>\n",
              "      <td>199</td>\n",
              "    </tr>\n",
              "    <tr>\n",
              "      <th>Science</th>\n",
              "      <td>197</td>\n",
              "    </tr>\n",
              "    <tr>\n",
              "      <th>Technology</th>\n",
              "      <td>195</td>\n",
              "    </tr>\n",
              "  </tbody>\n",
              "</table>\n",
              "</div><br><label><b>dtype:</b> int64</label>"
            ]
          },
          "metadata": {},
          "execution_count": 5
        }
      ]
    },
    {
      "cell_type": "code",
      "source": [
        "# What about the text\n",
        "df['text'][0]"
      ],
      "metadata": {
        "colab": {
          "base_uri": "https://localhost:8080/",
          "height": 139
        },
        "id": "UPg4qXfUYHnX",
        "outputId": "ab566a47-7c40-46f6-a419-2a51b7450805"
      },
      "execution_count": null,
      "outputs": [
        {
          "output_type": "execute_result",
          "data": {
            "text/plain": [
              "\"The Solar System is the Sun and all the objects in orbit around it. The Sun is orbited by planets, asteroids, comets and other things.\\n\\nThe Sun is a star. It contains 99.9 percent of the Solar System's mass. This means that it has strong gravity. The other objects are pulled into orbit around the Sun. The sun is mostly made out of hydrogen and helium.\\n\\nThere are eight planets in the Solar System. From closest to farthest from the Sun, they are: Mercury, Venus, Earth, Mars, Jupiter, Saturn, Uranus and Neptune. The first four planets are called terrestrial planets. They are mostly made of rock and metal, and they are mostly solid. The last four planets are called gas giants. This is because they are large planets that are mostly made of gas. Even though they are made of gas, they have much more mass than the terrestrial planets.\\n\\n\""
            ],
            "application/vnd.google.colaboratory.intrinsic+json": {
              "type": "string"
            }
          },
          "metadata": {},
          "execution_count": 6
        }
      ]
    },
    {
      "cell_type": "code",
      "source": [
        "# Lowercase the text column to reduce the number of words in the vocabulary\n",
        "df['text'] = df['text'].str.lower()\n",
        "\n",
        "df['text'][0]"
      ],
      "metadata": {
        "colab": {
          "base_uri": "https://localhost:8080/",
          "height": 139
        },
        "id": "n9RwQS_IYfjf",
        "outputId": "837bc088-4edd-40fd-8ef0-495b66aa9275"
      },
      "execution_count": null,
      "outputs": [
        {
          "output_type": "execute_result",
          "data": {
            "text/plain": [
              "\"the solar system is the sun and all the objects in orbit around it. the sun is orbited by planets, asteroids, comets and other things.\\n\\nthe sun is a star. it contains 99.9 percent of the solar system's mass. this means that it has strong gravity. the other objects are pulled into orbit around the sun. the sun is mostly made out of hydrogen and helium.\\n\\nthere are eight planets in the solar system. from closest to farthest from the sun, they are: mercury, venus, earth, mars, jupiter, saturn, uranus and neptune. the first four planets are called terrestrial planets. they are mostly made of rock and metal, and they are mostly solid. the last four planets are called gas giants. this is because they are large planets that are mostly made of gas. even though they are made of gas, they have much more mass than the terrestrial planets.\\n\\n\""
            ],
            "application/vnd.google.colaboratory.intrinsic+json": {
              "type": "string"
            }
          },
          "metadata": {},
          "execution_count": 7
        }
      ]
    },
    {
      "cell_type": "markdown",
      "source": [
        "## Split the dataset\n",
        "We will use a 80/20 train test split.\n",
        "\n",
        "Using sklearn train_test_split"
      ],
      "metadata": {
        "id": "CaxPKMiU7iXE"
      }
    },
    {
      "cell_type": "code",
      "source": [
        "train, test = train_test_split(df, test_size = 0.2, random_state=42)\n",
        "\n",
        "# random state to get same split every time"
      ],
      "metadata": {
        "id": "myUL9qvfzmbr"
      },
      "execution_count": null,
      "outputs": []
    },
    {
      "cell_type": "code",
      "source": [
        "len(test)  # 119 in test set"
      ],
      "metadata": {
        "colab": {
          "base_uri": "https://localhost:8080/"
        },
        "id": "tL5s1VYw3ovg",
        "outputId": "52b5348f-5d97-47a5-8317-3dbec24b53aa"
      },
      "execution_count": null,
      "outputs": [
        {
          "output_type": "execute_result",
          "data": {
            "text/plain": [
              "119"
            ]
          },
          "metadata": {},
          "execution_count": 16
        }
      ]
    },
    {
      "cell_type": "markdown",
      "source": [
        "## Preprocess the dataset\n",
        "Gensim's `preprocess_string()` function applies a list of filters to a given string. You can modify the filters used, but by default these filters are:\n",
        "- `strip_tags(): Any html markup\n",
        "- `strip_punctuation()`\n",
        "- `strip_multiple_whitespaces()`\n",
        "- `strip_numeric()`\n",
        "- `remove_stopwords()`\n",
        "- `strip_short(): Short words\n",
        "- `stem_text(): Stem the text\n",
        "\n",
        "For our use case, we will not use the default filters.\n",
        "\n",
        "Why?\n",
        "  - strip_short removes words that are fewer than three characters\n",
        "  - stem_text is weird...\n",
        "  - we do not have any html tags"
      ],
      "metadata": {
        "id": "j3Ducc4-7o9N"
      }
    },
    {
      "cell_type": "code",
      "source": [
        "# Define a custom list of filters, excluding stem_text()\n",
        "filter = [strip_punctuation, strip_multiple_whitespaces, strip_numeric, remove_stopwords]\n",
        "\n",
        "# Now use the custom filters when preprocessing\n",
        "train_tokenized = [preprocess_string(doc, filter) for doc in train['text']]\n",
        "test_tokenized = [preprocess_string(doc, filter) for doc in test['text']]"
      ],
      "metadata": {
        "id": "Z9I5Es9xNmLa"
      },
      "execution_count": null,
      "outputs": []
    },
    {
      "cell_type": "code",
      "source": [
        "print(train_tokenized[0:1])"
      ],
      "metadata": {
        "colab": {
          "base_uri": "https://localhost:8080/"
        },
        "id": "jEaEltZZU1eC",
        "outputId": "c01d4d18-7488-42ff-a1ea-9829db132ca8"
      },
      "execution_count": null,
      "outputs": [
        {
          "output_type": "stream",
          "name": "stdout",
          "text": [
            "[['random', 'access', 'memory', 'simply', 'ram', 'memory', 'information', 'storage', 'store', 'running', 'programs', 'data', 'programs', 'data', 'information', 'ram', 'read', 'written', 'quickly', 'order', 'normally', 'random', 'access', 'memory', 'form', 'chips', 'usually', 'contents', 'ram', 'accessible', 'faster', 'types', 'information', 'storage', 'lost', 'time', 'turned', 'non', 'volatile', 'random', 'access', 'memory', 'nvram', 'keeps', 'data', 'power', 'expensive', 'works', 'slowly', 'smaller', 'amounts', 'late', 'th', 'century', 'ram', 'uses', 'transistors', 'usually', 'mosfets', 'store', 'data']]\n"
          ]
        }
      ]
    },
    {
      "cell_type": "markdown",
      "source": [
        "## Generate dictionaries\n",
        "- You can use a **Bag of Words** corpus\n",
        "\n",
        "OR\n",
        "\n",
        "- a **TF-IDF** corpus to train an LDA model\n",
        "\n",
        "      We will start with using a BoW corpus."
      ],
      "metadata": {
        "id": "pIFyJNjF7tji"
      }
    },
    {
      "cell_type": "code",
      "source": [
        "gensim_dictionary = Dictionary()  # Import dictionary for mapping\n",
        "bow_corpus = [gensim_dictionary.doc2bow(doc, allow_update=True) for doc in train_tokenized]\n",
        "# Converts document to tuples with (word_id, word_count)\n",
        "id_words = [[(gensim_dictionary[id], count) for id, count in line] for line in bow_corpus]\n",
        "# Converts the numerical word IDs back to their original word forms with a tuple for (word, count)\n",
        "\n",
        "print(bow_corpus[0])\n",
        "print(id_words[0])\n",
        "\n",
        "\n",
        "# This is how you would train a tf-idf model\n",
        "# tfidf = TfidfModel(bow_corpus)\n",
        "# tfidf_corpus = tfidf[bow_corpus]"
      ],
      "metadata": {
        "id": "X_ys2waW1ILI",
        "colab": {
          "base_uri": "https://localhost:8080/"
        },
        "outputId": "eb34dc42-4664-40e2-8b53-1cf429555895"
      },
      "execution_count": null,
      "outputs": [
        {
          "output_type": "stream",
          "name": "stdout",
          "text": [
            "[(0, 3), (1, 1), (2, 1), (3, 1), (4, 1), (5, 1), (6, 4), (7, 1), (8, 1), (9, 1), (10, 3), (11, 1), (12, 1), (13, 1), (14, 4), (15, 1), (16, 1), (17, 1), (18, 1), (19, 1), (20, 1), (21, 2), (22, 1), (23, 4), (24, 3), (25, 1), (26, 1), (27, 1), (28, 1), (29, 1), (30, 2), (31, 2), (32, 1), (33, 1), (34, 1), (35, 1), (36, 1), (37, 1), (38, 2), (39, 1), (40, 1), (41, 1)]\n",
            "[('access', 3), ('accessible', 1), ('amounts', 1), ('century', 1), ('chips', 1), ('contents', 1), ('data', 4), ('expensive', 1), ('faster', 1), ('form', 1), ('information', 3), ('keeps', 1), ('late', 1), ('lost', 1), ('memory', 4), ('mosfets', 1), ('non', 1), ('normally', 1), ('nvram', 1), ('order', 1), ('power', 1), ('programs', 2), ('quickly', 1), ('ram', 4), ('random', 3), ('read', 1), ('running', 1), ('simply', 1), ('slowly', 1), ('smaller', 1), ('storage', 2), ('store', 2), ('th', 1), ('time', 1), ('transistors', 1), ('turned', 1), ('types', 1), ('uses', 1), ('usually', 2), ('volatile', 1), ('works', 1), ('written', 1)]\n"
          ]
        }
      ]
    },
    {
      "cell_type": "markdown",
      "source": [
        "## Determine optimal number of topics\n",
        "- We will generate eight models, and check the coherence against the training corpus.\n",
        "- We will use coherence scores to measure topic interpretability.\n",
        " - High coherence means the words in a topic are closely related and form a meaningful concept.\n",
        " - Low coherence suggests that the words in a topic are not strongly related, making the topic less interpretable.\n",
        "- Typically, you want to choose the minimum number of topics where the coherence score begins to plateau.\n",
        "- In our case, however, we are hoping to check how well the topics generated from the text map to the topic domains from the corpus\n",
        "  - we have theoretical reasons to select three topics.\n",
        "  - but we still want to check"
      ],
      "metadata": {
        "id": "IRM394TyJkjm"
      }
    },
    {
      "cell_type": "code",
      "source": [
        "# Train LDA models and compute coherence scores\n",
        "coherence_scores = []\n",
        "topic_nums = range(2, 10, 1)  # Test topic numbers from 2 to 9 in steps of 1\n",
        "\n",
        "for num_topics in topic_nums:\n",
        "    # Train LDA model\n",
        "    lda_model = LdaModel(corpus=bow_corpus,  # Our corpus from earlier\n",
        "                         id2word=gensim_dictionary,  # Mapping for ids and words\n",
        "                         num_topics=num_topics,  # Current value\n",
        "                         random_state=42,  # Reproducibility\n",
        "                         passes=20)  # Number of iterations over corpus in training\n",
        "                         # Larger datasets likely need fewer passes. 10-20 generally sufficient\n",
        "\n",
        "    # Compute coherence score\n",
        "    coherence_model = CoherenceModel(model=lda_model,  # Our model\n",
        "                                     texts=train_tokenized,  # Our data\n",
        "                                     dictionary=gensim_dictionary,  # Our dictionary\n",
        "                                     coherence='c_v')  # c_v for balance between interpretability and efficiency\n",
        "\n",
        "    coherence_score = coherence_model.get_coherence()  # Calculate coherence score\n",
        "    coherence_scores.append(coherence_score)  # Append it\n",
        "    print(f\"Num Topics: {num_topics}, Coherence Score: {coherence_score}\")\n",
        "    # Print number of topics and matching coherence score\n",
        "\n",
        "# THIS WILL TAKE AWHILE TO RUN...\n",
        "\n",
        "# Step 3: Plot coherence scores\n",
        "plt.figure(figsize=(10, 6))  # Size of plot by inches\n",
        "plt.plot(topic_nums, coherence_scores, marker='o')  # Number by coherence using circles\n",
        "plt.xlabel(\"Number of Topics\")\n",
        "plt.ylabel(\"Coherence Score (c_v)\")\n",
        "plt.title(\"Coherence Scores for Different Numbers of Topics\")\n",
        "plt.show()"
      ],
      "metadata": {
        "colab": {
          "base_uri": "https://localhost:8080/",
          "height": 703
        },
        "id": "8u5qsjuWHfcv",
        "outputId": "7b21be0f-83d2-48dd-877e-9a9cb7b28396"
      },
      "execution_count": null,
      "outputs": [
        {
          "output_type": "stream",
          "name": "stdout",
          "text": [
            "Num Topics: 2, Coherence Score: 0.2692170938628293\n",
            "Num Topics: 3, Coherence Score: 0.24452642703547514\n",
            "Num Topics: 4, Coherence Score: 0.31495036435011814\n",
            "Num Topics: 5, Coherence Score: 0.26449884711085797\n",
            "Num Topics: 6, Coherence Score: 0.3015059135425301\n",
            "Num Topics: 7, Coherence Score: 0.3186066410509407\n",
            "Num Topics: 8, Coherence Score: 0.31262693723082574\n",
            "Num Topics: 9, Coherence Score: 0.33793926042250666\n"
          ]
        },
        {
          "output_type": "display_data",
          "data": {
            "text/plain": [
              "<Figure size 1000x600 with 1 Axes>"
            ],
            "image/png": "[encoded data removed]"
          },
          "metadata": {}
        }
      ]
    },
    {
      "cell_type": "markdown",
      "source": [
        "## Build the model\n",
        "It looks like 9 topics are the best.\n",
        "\n",
        "That's not what we wanted...\n",
        "  - But three topics is pretty strong!\n",
        "\n",
        "And, we have theoretical reasons to choose three topics for our model.\n",
        "\n",
        "  - We want to try to see how well the topics generated from the text map onto the domains from the corpus.\n",
        "  - So, let's see what happens with three topics\n",
        "    - We can look at nine topics later\n",
        "\n",
        "**Do Not Worry**\n",
        "- We will return to 6 topics!\n"
      ],
      "metadata": {
        "id": "6RseCBg176ad"
      }
    },
    {
      "cell_type": "code",
      "source": [
        "lda_model_3topics = LdaModel(bow_corpus,\n",
        "                    num_topics=3,\n",
        "                    id2word = gensim_dictionary,\n",
        "                    random_state=42,\n",
        "                    passes = 20)"
      ],
      "metadata": {
        "id": "mNC9kK7y1eMt"
      },
      "execution_count": null,
      "outputs": []
    },
    {
      "cell_type": "markdown",
      "source": [
        "### Check out our model\n",
        "First we will look at perplexity and coherence\n",
        "- **Perplexity** is a metric used to evaluate the performance of a model, particularly in assessing how well the model generalizes to unseen data\n",
        " - Perplexity is a function of the likelihood of the data given the model.\n",
        " - Lower perplexity means the model should be better at predicting the test data, as it assigns higher probabilities to the observed words.\n",
        " - Higher perplexity indicates that the model is less confident or less accurate in predicting the data.\n",
        " - There is no fixed threshold for what constitutes a \"good\" perplexity score\n",
        "  - Score depends on the specific dataset and problem domain\n",
        "\n",
        "\n",
        "- **Coherence** is a metric used to evaluate the quality and interpretability of the topics discovered by a model.\n",
        " - High coherence means the words in a topic are closely related and form a meaningful concept.\n",
        " - Low coherence suggests that the words in a topic are not strongly related, making the topic less interpretable.\n",
        " - Think of coherence a bit like semantic similarity scores\n",
        "  - .30 likely means a decent relationship\n",
        "\n",
        "\n",
        "- We can interpret the model by looking at each topic's **key words**.\n",
        " - Here are the key words for each topic that the LDA model predicted.\n",
        " - The weights are how important the word is to the topic.\n",
        " - Can you make any inferences about what each topic might be about?"
      ],
      "metadata": {
        "id": "Ye4MikvF8LhJ"
      }
    },
    {
      "cell_type": "code",
      "source": [
        "# From gensim.models import CoherenceModel\n",
        "import pprint as pp #pretty printing for lists and dictionaries\n",
        "\n",
        "print('\\n\\n')\n",
        "\n",
        "# Compute Perplexity\n",
        "print(f\"PERPLEXITY: {lda_model_3topics.log_perplexity(bow_corpus)}\")\n",
        "# Log instead of raw because easier to vizualize\n",
        "\n",
        "# Compute Coherence Score\n",
        "coherence_model_lda = CoherenceModel(model=lda_model_3topics, texts=train_tokenized, dictionary=gensim_dictionary, coherence='c_v')\n",
        "coherence_lda = coherence_model_lda.get_coherence()\n",
        "print(f\"COHERENCE: {coherence_lda}\")\n",
        "\n",
        "# Show topic keywords\n",
        "print('\\nKEYWORDS that hopefully match to history, science, and technology!')\n",
        "pp.pprint(lda_model_3topics.print_topics(num_words=20))\n",
        "\n",
        "# Remember, our three topics are\n",
        "# History\n",
        "# Science\n",
        "# Technology"
      ],
      "metadata": {
        "colab": {
          "base_uri": "https://localhost:8080/"
        },
        "id": "E_weRLrU14UB",
        "outputId": "34242cd5-1ce8-472a-82df-4ac1de58d991"
      },
      "execution_count": null,
      "outputs": [
        {
          "output_type": "stream",
          "name": "stdout",
          "text": [
            "\n",
            "\n",
            "\n",
            "PERPLEXITY: -8.492508113780504\n",
            "COHERENCE: 0.32729976850351333\n",
            "\n",
            "KEYWORDS that hopefully match to history, science, and technology!\n",
            "[(0,\n",
            "  '0.007*\"s\" + 0.006*\"water\" + 0.006*\"called\" + 0.006*\"earth\" + 0.005*\"energy\" '\n",
            "  '+ 0.004*\"light\" + 0.003*\"use\" + 0.003*\"known\" + 0.003*\"different\" + '\n",
            "  '0.003*\"information\" + 0.003*\"data\" + 0.003*\"waves\" + 0.002*\"solar\" + '\n",
            "  '0.002*\"like\" + 0.002*\"usually\" + 0.002*\"time\" + 0.002*\"electricity\" + '\n",
            "  '0.002*\"electrons\" + 0.002*\"people\" + 0.002*\"form\"'),\n",
            " (1,\n",
            "  '0.008*\"people\" + 0.006*\"war\" + 0.006*\"states\" + 0.006*\"s\" + 0.004*\"united\" '\n",
            "  '+ 0.004*\"world\" + 0.004*\"countries\" + 0.003*\"government\" + 0.003*\"known\" + '\n",
            "  '0.003*\"power\" + 0.003*\"called\" + 0.003*\"age\" + 0.003*\"europe\" + '\n",
            "  '0.003*\"year\" + 0.003*\"great\" + 0.003*\"way\" + 0.003*\"political\" + '\n",
            "  '0.002*\"time\" + 0.002*\"american\" + 0.002*\"country\"'),\n",
            " (2,\n",
            "  '0.006*\"energy\" + 0.005*\"software\" + 0.005*\"use\" + 0.004*\"like\" + '\n",
            "  '0.003*\"different\" + 0.003*\"called\" + 0.003*\"devices\" + 0.003*\"usually\" + '\n",
            "  '0.003*\"th\" + 0.002*\"computers\" + 0.002*\"s\" + 0.002*\"empire\" + '\n",
            "  '0.002*\"network\" + 0.002*\"nuclear\" + 0.002*\"electronic\" + 0.002*\"greek\" + '\n",
            "  '0.002*\"people\" + 0.002*\"ancient\" + 0.002*\"systems\" + 0.002*\"process\"')]\n"
          ]
        }
      ]
    },
    {
      "cell_type": "markdown",
      "source": [
        "### Interpretation\n",
        "\n",
        "This does not look bad.\n",
        "\n",
        "Topic 0 = Science\n",
        "\n",
        "Topic 1 = History\n",
        "\n",
        "Topic 2 = Technology\n",
        "\n",
        "The coherence score (.322) is okay...\n",
        "  - Think coherence values in Word2Vec"
      ],
      "metadata": {
        "id": "IX02up3we44U"
      }
    },
    {
      "cell_type": "markdown",
      "source": [
        "### Let's visualize it!\n",
        "`pyLDAvis` is a package that lets you visualize LDA models.\n",
        "- On the left you can see how well our three topics seperate in two principal component dimensions.\n",
        "- On the right you can see the terms in the corpus.\n",
        " - The blue lines represent total term frequency in the corpus.\n",
        " - The red lines show estimated term frequency in the topic.\n",
        "\n",
        " The topic numbers may differ..."
      ],
      "metadata": {
        "id": "TQWRQIM9CIh-"
      }
    },
    {
      "cell_type": "code",
      "source": [
        "pyLDAvis.enable_notebook()\n",
        "pyLDAvis.gensim.prepare(topic_model=lda_model_3topics,\n",
        "                        corpus=bow_corpus,\n",
        "                        dictionary=gensim_dictionary)"
      ],
      "metadata": {
        "colab": {
          "base_uri": "https://localhost:8080/",
          "height": 881
        },
        "id": "c5RYYVUHCL4B",
        "outputId": "efd4a639-b93e-4c03-a663-2d541b573c99"
      },
      "execution_count": null,
      "outputs": [
        {
          "output_type": "execute_result",
          "data": {
            "text/plain": [
              "PreparedData(topic_coordinates=              x         y  topics  cluster       Freq\n",
              "topic                                                \n",
              "0      0.091886 -0.069838       1        1  41.644857\n",
              "1     -0.125584 -0.025512       2        1  32.123746\n",
              "2      0.033698  0.095350       3        1  26.231398, topic_info=          Term        Freq       Total Category  logprob  loglift\n",
              "1040     water  103.000000  103.000000  Default  30.0000  30.0000\n",
              "948   software   59.000000   59.000000  Default  29.0000  29.0000\n",
              "547        war   92.000000   92.000000  Default  28.0000  28.0000\n",
              "61       earth  100.000000  100.000000  Default  27.0000  27.0000\n",
              "543     states   88.000000   88.000000  Default  26.0000  26.0000\n",
              "...        ...         ...         ...      ...      ...      ...\n",
              "131       high   17.388479   49.382497   Topic3  -6.3528   0.2944\n",
              "20       power   18.637798   82.999716   Topic3  -6.2834  -0.1554\n",
              "443     people   20.790001  155.768990   Topic3  -6.1741  -0.6757\n",
              "80       known   18.611406  109.814636   Topic3  -6.2848  -0.4368\n",
              "253    example   17.353655   62.558685   Topic3  -6.3548   0.0559\n",
              "\n",
              "[242 rows x 6 columns], token_table=      Topic      Freq     Term\n",
              "term                          \n",
              "1322      1  0.898306    acids\n",
              "1696      1  0.062057  african\n",
              "1696      2  0.930858  african\n",
              "159       1  0.070480      age\n",
              "159       2  0.822272      age\n",
              "...     ...       ...      ...\n",
              "795       2  0.896647     year\n",
              "795       3  0.026372     year\n",
              "110       1  0.323164    years\n",
              "110       2  0.513260    years\n",
              "110       3  0.152077    years\n",
              "\n",
              "[387 rows x 3 columns], R=30, lambda_step=0.01, plot_opts={'xlab': 'PC1', 'ylab': 'PC2'}, topic_order=[1, 2, 3])"
            ],
            "text/html": [
              "\n",
              "<link rel=\"stylesheet\" type=\"text/css\" href=\"https://cdn.jsdelivr.net/gh/bmabey/pyLDAvis@3.4.0/pyLDAvis/js/ldavis.v1.0.0.css\">\n",
              "\n",
              "\n",
              "<div id=\"ldavis_el47951398327577032161175411407\" style=\"background-color:white;\"></div>\n",
              "<script type=\"text/javascript\">\n",
              "\n",
              "var ldavis_el47951398327577032161175411407_data = {\"mdsDat\": {\"x\": [0.09188591795687186, -0.12558422271561165, 0.03369830475873977], \"y\": [-0.069837604524133, -0.025512424891604827, 0.0953500294157378], \"topics\": [1, 2, 3], \"cluster\": [1, 1, 1], \"Freq\": [41.644856521624476, 32.123745621228096, 26.23139785714744]}, \"tinfo\": {\"Term\": [\"water\", \"software\", \"war\", \"earth\", \"states\", \"energy\", \"countries\", \"people\", \"united\", \"government\", \"year\", \"europe\", \"great\", \"union\", \"waves\", \"american\", \"magnetic\", \"solar\", \"empire\", \"electrons\", \"age\", \"code\", \"political\", \"country\", \"stone\", \"china\", \"hardware\", \"operating\", \"ii\", \"britain\", \"magnetic\", \"charge\", \"water\", \"planet\", \"vapor\", \"quantum\", \"planets\", \"crust\", \"electrons\", \"friction\", \"particles\", \"waves\", \"helium\", \"solar\", \"oceans\", \"precipitation\", \"spacecraft\", \"tissue\", \"moon\", \"welding\", \"minerals\", \"wire\", \"reality\", \"antenna\", \"acids\", \"mars\", \"velocity\", \"mineral\", \"database\", \"proteins\", \"wave\", \"density\", \"earth\", \"blood\", \"hydrogen\", \"ocean\", \"atmosphere\", \"oceanic\", \"electric\", \"heart\", \"electricity\", \"electromagnetic\", \"surface\", \"object\", \"radio\", \"light\", \"measured\", \"speed\", \"temperature\", \"atoms\", \"called\", \"s\", \"information\", \"data\", \"sun\", \"energy\", \"body\", \"air\", \"cells\", \"chemical\", \"engineering\", \"known\", \"use\", \"form\", \"different\", \"example\", \"like\", \"usually\", \"time\", \"sound\", \"people\", \"union\", \"stone\", \"ii\", \"americans\", \"britain\", \"wall\", \"monarch\", \"republic\", \"parliament\", \"economic\", \"monarchy\", \"countries\", \"party\", \"mail\", \"soviet\", \"independence\", \"followed\", \"biodiesel\", \"prussia\", \"milky\", \"african\", \"rebellion\", \"paintings\", \"innovation\", \"russia\", \"nazi\", \"viscosity\", \"european\", \"members\", \"neolithic\", \"american\", \"great\", \"france\", \"europe\", \"year\", \"united\", \"government\", \"germany\", \"war\", \"china\", \"states\", \"galaxy\", \"age\", \"country\", \"people\", \"political\", \"social\", \"world\", \"kingdom\", \"period\", \"state\", \"power\", \"s\", \"way\", \"known\", \"years\", \"cell\", \"called\", \"time\", \"new\", \"usually\", \"th\", \"term\", \"century\", \"hardware\", \"dvi\", \"multimedia\", \"starch\", \"gamification\", \"solvent\", \"selection\", \"vertebrates\", \"android\", \"format\", \"flora\", \"geometry\", \"steelmaking\", \"steel\", \"displays\", \"petroleum\", \"respiratory\", \"software\", \"java\", \"cavalry\", \"sd\", \"agora\", \"dormancy\", \"hdmi\", \"replay\", \"fish\", \"utility\", \"cuneiform\", \"tyrant\", \"os\", \"code\", \"operating\", \"linux\", \"cards\", \"potential\", \"commerce\", \"management\", \"interface\", \"display\", \"crystal\", \"cameras\", \"oil\", \"game\", \"nuclear\", \"web\", \"devices\", \"video\", \"computers\", \"environmental\", \"network\", \"energy\", \"engine\", \"electronic\", \"use\", \"empire\", \"like\", \"language\", \"personal\", \"design\", \"different\", \"process\", \"digital\", \"free\", \"greek\", \"th\", \"ancient\", \"usually\", \"called\", \"systems\", \"gas\", \"term\", \"s\", \"high\", \"power\", \"people\", \"known\", \"example\"], \"Freq\": [103.0, 59.0, 92.0, 100.0, 88.0, 135.0, 45.0, 155.0, 53.0, 48.0, 37.0, 38.0, 36.0, 28.0, 43.0, 33.0, 35.0, 40.0, 45.0, 36.0, 42.0, 20.0, 43.0, 36.0, 20.0, 25.0, 16.0, 19.0, 20.0, 20.0, 34.46057794353913, 17.020136924109327, 100.38843613603692, 15.356687822457355, 15.354557778393724, 15.328295229910617, 15.320061027523453, 23.35198210585495, 35.39054651025446, 12.007034401778975, 23.194178035862432, 41.49332108926972, 11.142674697709571, 38.98052591158454, 10.332065165754281, 10.331901883900983, 10.331046729787953, 10.287702316460223, 9.493564879264646, 9.493482777089824, 9.49324385053613, 9.49316912833208, 9.491699591652406, 9.4865262321423, 9.48298569116516, 10.270382447558248, 8.656260148039829, 8.655642997984147, 8.654358883070083, 8.654128258983507, 19.58070080759914, 15.670076436233169, 92.91183940825725, 31.082986721012745, 25.851323596825537, 22.800048851872162, 19.76941588516382, 11.70457644721059, 33.73710095898188, 23.653859810221505, 35.48920195951426, 19.064101008672722, 31.017685049650137, 27.96018714434455, 30.080583741185137, 56.953481636907306, 17.010482077348843, 26.174942695081935, 26.80254094438178, 28.835211828673646, 94.80743656045088, 108.62835800054906, 42.60600666230602, 41.83193997811712, 32.424078699410074, 76.72661149236137, 32.884909904216656, 33.532649938741834, 30.95285385142415, 33.93123847007017, 32.67964708719186, 50.86713856281253, 54.36018573805771, 34.97643052042503, 43.427711057818385, 34.8664578859887, 37.87784757891301, 36.87017898994066, 35.5005191446908, 31.972642197394322, 35.0124410877996, 28.126785955195555, 20.294697280726304, 19.3682022048411, 15.48485113044854, 19.351747411833095, 13.138701069221755, 13.13367297860618, 12.320091483629321, 11.484963061983962, 14.536749354386243, 10.708327288031827, 42.814921682341506, 14.493812050714597, 9.922273628529574, 18.295015822978186, 9.108668651102912, 8.314023261330002, 8.312173840510601, 8.31168426701166, 13.607723866637329, 15.052226130228936, 7.508581637362424, 7.508491265510148, 7.508338985381117, 8.259381023815218, 7.500275254436352, 7.492457021830446, 15.684049194187663, 7.459481969590736, 6.704748917001103, 30.237200683967203, 32.914202807963704, 21.294111767556956, 34.94091470020422, 34.29624887097095, 46.4449697054681, 42.16836587169372, 18.222728303409276, 78.52848867910386, 22.959380369237827, 72.5775178617337, 16.54911560456477, 35.069276886725945, 30.16126840355298, 99.96654786395843, 32.55188710881438, 21.894543777253652, 46.227815395112295, 15.167865098493303, 26.615560801049167, 29.213940836744822, 40.27540147446328, 68.43562359182197, 32.877749506795475, 40.33609151018664, 27.345967458820784, 25.040096203312096, 39.67232092906447, 30.385917173343152, 25.49652386856015, 27.550740113825466, 25.180814427966975, 24.020585008985677, 23.747467039621586, 16.14817064067064, 7.952628789137425, 7.182914641129866, 7.181676972673365, 7.1795560854122265, 7.172537982305367, 7.158615664832247, 6.413367839843184, 6.41217491339192, 6.378298823714001, 5.644257418373796, 5.644009884682496, 5.64381639003648, 5.643637422015539, 5.642624044650217, 5.641995332316915, 5.640883754966077, 54.065839353235276, 4.874585107046455, 4.874512473921074, 4.874311425430018, 4.874287892297394, 4.874071445583757, 4.873575506603653, 4.873560689446075, 4.873484279398173, 4.873122275901273, 4.873114431523732, 4.872914545162682, 4.872235570706615, 18.762506437311202, 17.268634799665346, 8.31542660189785, 13.496257370282716, 14.69952677860232, 8.636431314313775, 8.008043215283465, 13.357017925731427, 13.212973073604898, 11.46337472811596, 10.747889633648212, 11.825224823856407, 9.369832386020619, 21.974946387153025, 9.788961545501897, 28.389434520322094, 16.75362294190049, 24.89832160566667, 14.140716565167434, 22.558435593397526, 56.22044697863134, 12.668379196534676, 21.7376812765869, 48.70862920849906, 23.726213551330726, 36.679107740219685, 12.592830286967892, 11.580380301390477, 14.585261507882196, 32.845310577884476, 19.49654493732639, 14.509597547444807, 16.952699298336043, 21.49441260240925, 24.99095033993316, 20.75423805596183, 25.224113131577738, 30.458595374889384, 19.55462703290144, 17.5329426754735, 19.014912939726848, 24.89107456294861, 17.388479456544772, 18.63779826635623, 20.79000144476966, 18.611406293917618, 17.353655068781876], \"Total\": [103.0, 59.0, 92.0, 100.0, 88.0, 135.0, 45.0, 155.0, 53.0, 48.0, 37.0, 38.0, 36.0, 28.0, 43.0, 33.0, 35.0, 40.0, 45.0, 36.0, 42.0, 20.0, 43.0, 36.0, 20.0, 25.0, 16.0, 19.0, 20.0, 20.0, 35.144998717727226, 17.56014278493858, 103.6330543106976, 15.885572888356112, 15.885504289957929, 15.884300822634193, 15.882191331770098, 24.233416091187298, 36.759438631114996, 12.533803487909543, 24.24257232839488, 43.41939961330973, 11.693534468830775, 40.94771145892392, 10.857895496024373, 10.857873208207186, 10.857839044891731, 10.853710317023063, 10.01989256407582, 10.019849860951398, 10.019872569099261, 10.019828330966936, 10.019737021886703, 10.019049501160373, 10.018862970171421, 10.852377301735151, 9.181961097585463, 9.181923098879219, 9.181735111247207, 9.181859506880148, 20.847567043982107, 16.678971311099474, 100.77744018764356, 33.36161112050355, 28.29270683369431, 24.962734869923434, 21.63383097345294, 12.51989544214004, 38.93534400299993, 26.66114370820549, 42.156519255383046, 21.575003801871187, 37.17828502180577, 33.09726028549214, 36.446535753283655, 75.28301974667984, 19.09922253354203, 31.428636351452614, 33.01057392535941, 36.22687229019557, 164.93835286440475, 201.95505615531962, 60.85011478291193, 59.84623037593976, 42.79709007141858, 135.69042288762162, 44.54894221312096, 46.87128018645528, 42.896700268102485, 49.73333216752948, 48.09895185280952, 109.81463636691677, 124.68347353936649, 57.17945603818221, 98.41162491807242, 62.55868487660159, 90.77466809074144, 89.64503223534386, 81.18801965398829, 53.48863310826497, 155.7689903965277, 28.97011835535265, 20.926782512329687, 20.109285567328243, 16.09248537864755, 20.11200771328261, 13.679990613381358, 13.680300539595569, 12.874745486568063, 12.070874558146963, 15.287153696519754, 11.264460489269855, 45.07113135906377, 15.27962978261626, 10.460640922790983, 19.29251351515306, 9.6560650977106, 8.85104107514029, 8.850956950116862, 8.851134589501324, 14.493514462735352, 16.114170956862377, 8.046171481336316, 8.046171676136582, 8.04620027544551, 8.852868767635565, 8.045587757086997, 8.04628074093007, 16.869623022785, 8.045718848986134, 7.241376942987116, 33.01586951156116, 36.27730835995365, 23.2737966674548, 38.625331285548164, 37.91904210060752, 53.018811799239735, 48.321282497666346, 20.172938421318587, 92.88854564532983, 25.836059498793762, 88.31948765722328, 18.55488541975061, 42.564976100530096, 36.29573440563034, 155.7689903965277, 43.12846354360791, 26.443371510415023, 81.43259930922198, 16.934569129109946, 39.214930053481865, 45.51413303357575, 82.99971587243859, 201.95505615531962, 63.09711268123945, 109.81463636691677, 52.60493102434959, 46.27267210876621, 164.93835286440475, 81.18801965398829, 49.559530544059704, 89.64503223534386, 68.81397314254404, 63.52438718429061, 60.43829022713207, 16.993789872831755, 8.502028132585853, 7.73214155578269, 7.732150670920162, 7.732295156442052, 7.732835427430261, 7.7338259257081825, 6.962183293283602, 6.962225696385895, 6.964370836514913, 6.192250621878687, 6.192279908486685, 6.1922938698127235, 6.19230832367633, 6.192322823710626, 6.192352039634137, 6.192386595233253, 59.70942713645311, 5.422340812275615, 5.422347525269952, 5.422366885200444, 5.4223671763000585, 5.422383535017781, 5.422415520044305, 5.422424260749812, 5.422405898236647, 5.422424272605104, 5.422442690995618, 5.422424230267451, 5.42251284627744, 20.951530002166187, 19.407537142715096, 9.290191838583901, 15.55244272554998, 17.11813497948026, 10.079083185318993, 9.303639387454954, 16.37187238317053, 16.392453438136187, 14.005478570785403, 13.239353405444763, 14.763317624010487, 11.72665025718271, 34.64125369574242, 12.468058346153306, 49.83302452715155, 25.297225562590473, 42.92051314288142, 20.42842346989663, 37.910531645042624, 135.69042288762162, 18.09540872824124, 38.78562244902055, 124.68347353936649, 45.61273668218929, 90.77466809074144, 18.011524701696715, 16.53748680176365, 24.625136461260595, 98.41162491807242, 40.630291450598584, 24.534351009375058, 32.357033389854166, 49.518216060952554, 68.81397314254404, 56.12495913433317, 89.64503223534386, 164.93835286440475, 54.07405256657928, 41.9427593871432, 63.52438718429061, 201.95505615531962, 49.382496658274896, 82.99971587243859, 155.7689903965277, 109.81463636691677, 62.55868487660159], \"Category\": [\"Default\", \"Default\", \"Default\", \"Default\", \"Default\", \"Default\", \"Default\", \"Default\", \"Default\", \"Default\", \"Default\", \"Default\", \"Default\", \"Default\", \"Default\", \"Default\", \"Default\", \"Default\", \"Default\", \"Default\", \"Default\", \"Default\", \"Default\", \"Default\", \"Default\", \"Default\", \"Default\", \"Default\", \"Default\", \"Default\", \"Topic1\", \"Topic1\", \"Topic1\", \"Topic1\", \"Topic1\", \"Topic1\", \"Topic1\", \"Topic1\", \"Topic1\", \"Topic1\", \"Topic1\", \"Topic1\", \"Topic1\", \"Topic1\", \"Topic1\", \"Topic1\", \"Topic1\", \"Topic1\", \"Topic1\", \"Topic1\", \"Topic1\", \"Topic1\", \"Topic1\", \"Topic1\", \"Topic1\", \"Topic1\", \"Topic1\", \"Topic1\", \"Topic1\", \"Topic1\", \"Topic1\", \"Topic1\", \"Topic1\", \"Topic1\", \"Topic1\", \"Topic1\", \"Topic1\", \"Topic1\", \"Topic1\", \"Topic1\", \"Topic1\", \"Topic1\", \"Topic1\", \"Topic1\", \"Topic1\", \"Topic1\", \"Topic1\", \"Topic1\", \"Topic1\", \"Topic1\", \"Topic1\", \"Topic1\", \"Topic1\", \"Topic1\", \"Topic1\", \"Topic1\", \"Topic1\", \"Topic1\", \"Topic1\", \"Topic1\", \"Topic1\", \"Topic1\", \"Topic1\", \"Topic1\", \"Topic1\", \"Topic1\", \"Topic1\", \"Topic1\", \"Topic1\", \"Topic1\", \"Topic1\", \"Topic2\", \"Topic2\", \"Topic2\", \"Topic2\", \"Topic2\", \"Topic2\", \"Topic2\", \"Topic2\", \"Topic2\", \"Topic2\", \"Topic2\", \"Topic2\", \"Topic2\", \"Topic2\", \"Topic2\", \"Topic2\", \"Topic2\", \"Topic2\", \"Topic2\", \"Topic2\", \"Topic2\", \"Topic2\", \"Topic2\", \"Topic2\", \"Topic2\", \"Topic2\", \"Topic2\", \"Topic2\", \"Topic2\", \"Topic2\", \"Topic2\", \"Topic2\", \"Topic2\", \"Topic2\", \"Topic2\", \"Topic2\", \"Topic2\", \"Topic2\", \"Topic2\", \"Topic2\", \"Topic2\", \"Topic2\", \"Topic2\", \"Topic2\", \"Topic2\", \"Topic2\", \"Topic2\", \"Topic2\", \"Topic2\", \"Topic2\", \"Topic2\", \"Topic2\", \"Topic2\", \"Topic2\", \"Topic2\", \"Topic2\", \"Topic2\", \"Topic2\", \"Topic2\", \"Topic2\", \"Topic2\", \"Topic2\", \"Topic2\", \"Topic2\", \"Topic3\", \"Topic3\", \"Topic3\", \"Topic3\", \"Topic3\", \"Topic3\", \"Topic3\", \"Topic3\", \"Topic3\", \"Topic3\", \"Topic3\", \"Topic3\", \"Topic3\", \"Topic3\", \"Topic3\", \"Topic3\", \"Topic3\", \"Topic3\", \"Topic3\", \"Topic3\", \"Topic3\", \"Topic3\", \"Topic3\", \"Topic3\", \"Topic3\", \"Topic3\", \"Topic3\", \"Topic3\", \"Topic3\", \"Topic3\", \"Topic3\", \"Topic3\", \"Topic3\", \"Topic3\", \"Topic3\", \"Topic3\", \"Topic3\", \"Topic3\", \"Topic3\", \"Topic3\", \"Topic3\", \"Topic3\", \"Topic3\", \"Topic3\", \"Topic3\", \"Topic3\", \"Topic3\", \"Topic3\", \"Topic3\", \"Topic3\", \"Topic3\", \"Topic3\", \"Topic3\", \"Topic3\", \"Topic3\", \"Topic3\", \"Topic3\", \"Topic3\", \"Topic3\", \"Topic3\", \"Topic3\", \"Topic3\", \"Topic3\", \"Topic3\", \"Topic3\", \"Topic3\", \"Topic3\", \"Topic3\", \"Topic3\", \"Topic3\", \"Topic3\", \"Topic3\", \"Topic3\", \"Topic3\", \"Topic3\", \"Topic3\", \"Topic3\"], \"logprob\": [30.0, 29.0, 28.0, 27.0, 26.0, 25.0, 24.0, 23.0, 22.0, 21.0, 20.0, 19.0, 18.0, 17.0, 16.0, 15.0, 14.0, 13.0, 12.0, 11.0, 10.0, 9.0, 8.0, 7.0, 6.0, 5.0, 4.0, 3.0, 2.0, 1.0, -6.131, -6.8364, -5.0618, -6.9393, -6.9394, -6.9411, -6.9417, -6.5201, -6.1044, -7.1853, -6.5269, -5.9453, -7.26, -6.0078, -7.3356, -7.3356, -7.3357, -7.3399, -7.4202, -7.4202, -7.4202, -7.4202, -7.4204, -7.4209, -7.4213, -7.3416, -7.5125, -7.5126, -7.5128, -7.5128, -6.6963, -6.9191, -5.1392, -6.2342, -6.4185, -6.5441, -6.6867, -7.2108, -6.1522, -6.5073, -6.1016, -6.723, -6.2363, -6.34, -6.2669, -5.6286, -6.837, -6.406, -6.3823, -6.3092, -5.119, -4.9829, -5.9188, -5.9372, -6.1919, -5.3306, -6.1778, -6.1583, -6.2384, -6.1465, -6.1841, -5.7416, -5.6752, -6.1161, -5.8997, -6.1193, -6.0365, -6.0634, -6.1013, -6.2059, -6.1151, -6.0745, -6.4009, -6.4476, -6.6714, -6.4485, -6.8357, -6.8361, -6.9, -6.9702, -6.7346, -7.0402, -5.6544, -6.7375, -7.1165, -6.5046, -7.202, -7.2933, -7.2935, -7.2936, -6.8006, -6.6997, -7.3952, -7.3952, -7.3952, -7.2999, -7.3963, -7.3973, -6.6586, -7.4018, -7.5084, -6.0022, -5.9173, -6.3528, -5.8576, -5.8762, -5.573, -5.6696, -6.5086, -5.0478, -6.2775, -5.1266, -6.6049, -5.8539, -6.0047, -4.8064, -5.9284, -6.325, -5.5777, -6.6921, -6.1297, -6.0366, -5.7155, -5.1853, -5.9184, -5.714, -6.1027, -6.1908, -5.7306, -5.9973, -6.1727, -6.0952, -6.1852, -6.2323, -6.2438, -6.4268, -7.1351, -7.2369, -7.2371, -7.2374, -7.2383, -7.2403, -7.3502, -7.3504, -7.3557, -7.478, -7.478, -7.478, -7.4781, -7.4783, -7.4784, -7.4786, -5.2184, -7.6246, -7.6246, -7.6246, -7.6246, -7.6247, -7.6248, -7.6248, -7.6248, -7.6249, -7.6249, -7.6249, -7.625, -6.2767, -6.3597, -7.0905, -6.6062, -6.5208, -7.0526, -7.1282, -6.6166, -6.6274, -6.7694, -6.8339, -6.7384, -6.9711, -6.1187, -6.9273, -5.8626, -6.39, -5.9938, -6.5595, -6.0925, -5.1793, -6.6695, -6.1296, -5.3227, -6.042, -5.6064, -6.6755, -6.7593, -6.5286, -5.7168, -6.2384, -6.5338, -6.3782, -6.1408, -5.9901, -6.1759, -5.9808, -5.7922, -6.2354, -6.3445, -6.2634, -5.9941, -6.3528, -6.2834, -6.1741, -6.2848, -6.3548], \"loglift\": [30.0, 29.0, 28.0, 27.0, 26.0, 25.0, 24.0, 23.0, 22.0, 21.0, 20.0, 19.0, 18.0, 17.0, 16.0, 15.0, 14.0, 13.0, 12.0, 11.0, 10.0, 9.0, 8.0, 7.0, 6.0, 5.0, 4.0, 3.0, 2.0, 1.0, 0.8563, 0.8448, 0.8442, 0.8421, 0.842, 0.8404, 0.84, 0.8389, 0.838, 0.8331, 0.8318, 0.8306, 0.8277, 0.8268, 0.8264, 0.8263, 0.8263, 0.8224, 0.822, 0.822, 0.822, 0.822, 0.8219, 0.8214, 0.821, 0.8209, 0.817, 0.817, 0.8168, 0.8168, 0.8133, 0.8136, 0.7947, 0.8052, 0.7858, 0.7854, 0.7859, 0.8087, 0.7327, 0.7563, 0.7038, 0.7523, 0.6948, 0.7073, 0.684, 0.597, 0.7602, 0.6931, 0.6677, 0.6478, 0.3223, 0.2559, 0.5196, 0.5179, 0.5984, 0.3059, 0.5724, 0.5411, 0.5497, 0.4937, 0.4895, 0.1064, 0.0458, 0.3845, 0.0579, 0.2914, 0.002, -0.0125, 0.0488, 0.3614, -0.6167, 1.106, 1.1049, 1.098, 1.0971, 1.097, 1.0952, 1.0948, 1.0915, 1.0858, 1.0852, 1.0849, 1.0842, 1.0828, 1.0827, 1.0825, 1.0772, 1.073, 1.0728, 1.0727, 1.0725, 1.0674, 1.0664, 1.0664, 1.0664, 1.0662, 1.0654, 1.0643, 1.0627, 1.0599, 1.0586, 1.0477, 1.0383, 1.0467, 1.0353, 1.0352, 1.0032, 0.9994, 1.0339, 0.9676, 1.0175, 0.9393, 1.0212, 0.9419, 0.9504, 0.692, 0.8542, 0.9468, 0.5694, 1.0254, 0.748, 0.6922, 0.4125, 0.0534, 0.4837, 0.134, 0.4813, 0.5215, -0.2893, 0.1528, 0.4709, -0.0443, 0.1303, 0.1631, 0.2014, 1.2872, 1.2714, 1.2645, 1.2644, 1.264, 1.263, 1.2609, 1.2561, 1.2559, 1.2503, 1.2456, 1.2455, 1.2455, 1.2454, 1.2453, 1.2451, 1.2449, 1.2389, 1.2317, 1.2317, 1.2317, 1.2317, 1.2316, 1.2315, 1.2315, 1.2315, 1.2314, 1.2314, 1.2314, 1.2312, 1.2279, 1.2214, 1.2274, 1.1964, 1.1859, 1.1837, 1.1883, 1.1347, 1.1226, 1.1379, 1.1297, 1.1163, 1.1138, 0.8831, 1.0963, 0.7756, 0.9261, 0.7937, 0.9703, 0.8191, 0.4571, 0.9817, 0.7592, 0.3983, 0.6846, 0.432, 0.9803, 0.9819, 0.8145, 0.2409, 0.6039, 0.8129, 0.6918, 0.5037, 0.3253, 0.3434, 0.0702, -0.351, 0.3211, 0.466, 0.132, -0.7553, 0.2944, -0.1554, -0.6757, -0.4368, 0.0559]}, \"token.table\": {\"Topic\": [1, 1, 2, 1, 2, 3, 3, 1, 2, 3, 1, 2, 3, 2, 1, 2, 3, 3, 1, 1, 3, 1, 3, 2, 1, 2, 3, 1, 2, 3, 2, 1, 2, 3, 1, 2, 3, 1, 3, 3, 1, 2, 3, 1, 2, 3, 1, 2, 3, 1, 1, 3, 1, 2, 1, 3, 2, 3, 1, 2, 3, 1, 2, 3, 1, 2, 3, 1, 3, 1, 2, 3, 3, 1, 2, 3, 1, 1, 3, 1, 2, 3, 1, 2, 3, 1, 2, 3, 1, 2, 3, 1, 2, 3, 3, 3, 3, 1, 2, 3, 2, 1, 3, 1, 3, 1, 3, 1, 2, 3, 1, 3, 2, 3, 1, 2, 3, 1, 2, 3, 1, 2, 3, 1, 2, 3, 1, 2, 3, 2, 3, 1, 2, 3, 3, 3, 2, 1, 2, 3, 3, 2, 3, 1, 2, 3, 1, 1, 2, 1, 3, 3, 1, 2, 3, 3, 1, 2, 1, 2, 3, 1, 2, 3, 1, 2, 3, 1, 3, 3, 1, 2, 3, 1, 1, 2, 3, 1, 3, 2, 2, 1, 2, 3, 2, 1, 2, 3, 3, 1, 2, 1, 2, 3, 1, 2, 3, 1, 2, 3, 1, 2, 3, 2, 3, 1, 2, 2, 3, 1, 1, 3, 2, 1, 2, 1, 1, 2, 2, 1, 3, 2, 2, 1, 2, 3, 1, 2, 3, 1, 2, 3, 1, 2, 3, 1, 3, 1, 2, 1, 2, 3, 1, 3, 3, 2, 2, 1, 2, 2, 1, 2, 3, 1, 2, 3, 1, 2, 3, 3, 1, 1, 1, 2, 3, 1, 3, 1, 2, 3, 1, 1, 2, 3, 1, 2, 1, 1, 2, 3, 1, 2, 3, 2, 3, 2, 1, 2, 3, 3, 3, 1, 2, 3, 1, 2, 3, 1, 2, 3, 3, 1, 2, 3, 2, 3, 1, 1, 2, 3, 3, 1, 2, 3, 1, 2, 3, 3, 3, 2, 1, 2, 3, 1, 3, 1, 2, 3, 1, 2, 3, 1, 2, 3, 1, 2, 3, 1, 2, 3, 1, 3, 2, 1, 2, 3, 1, 2, 3, 1, 2, 3, 3, 1, 1, 3, 1, 2, 3, 2, 2, 1, 2, 3, 1, 3, 1, 3, 1, 3, 1, 2, 3, 1, 2, 3, 1, 1, 1, 2, 3, 1, 2, 3, 1, 2, 3], \"Freq\": [0.8983055289602401, 0.06205717952707584, 0.9308576929061376, 0.07048048125093717, 0.8222722812609337, 0.11746746875156194, 0.9221064965600024, 0.72539089746956, 0.12801015837698118, 0.1493451847731447, 0.0605769295065714, 0.9086539425985709, 0.0302884647532857, 0.9321120788404057, 0.3385303133054253, 0.3028955434838016, 0.37416508312704905, 0.8617933778151736, 0.898288804637371, 0.924477963451881, 0.0924477963451881, 0.8005107304791683, 0.1932267280466958, 0.9038570682342291, 0.9292117184636765, 0.029974571563344404, 0.029974571563344404, 0.7407583291681512, 0.15713055467203207, 0.1122361104800229, 0.9447092637823422, 0.5759727701300569, 0.24251485058107658, 0.18188613793580743, 0.07553238963987048, 0.07553238963987048, 0.8308562860385753, 0.12859716221390388, 0.8358815543903751, 0.9221098383492258, 0.34577644365104326, 0.5402756932047551, 0.10805513864095102, 0.7226663078104228, 0.18649453104785108, 0.09324726552392554, 0.3474618477968234, 0.39709925462494094, 0.2647328364166273, 0.9681014675222904, 0.6836461286259509, 0.3016085861585077, 0.11611677857221471, 0.8902286357203129, 0.09545842235832988, 0.9068550124041338, 0.09921537322527327, 0.8929383590274594, 0.3494832401016581, 0.06989664802033163, 0.5824720668360969, 0.022187151062026775, 0.9540474956671513, 0.022187151062026775, 0.11020578769111512, 0.8265434076833634, 0.05510289384555756, 0.9491026734924161, 0.041265333630105046, 0.07140063047084594, 0.07140063047084594, 0.7854069351793053, 0.9220936550058673, 0.7017985884184519, 0.10025694120263598, 0.20051388240527196, 0.980206888017866, 0.9592917753478217, 0.05995573595923886, 0.3654802081669064, 0.04060891201854516, 0.6091336802781774, 0.2207371538126618, 0.2207371538126618, 0.5618763915231392, 0.4369402500547822, 0.22355082560942346, 0.33532623841413517, 0.24455507291418802, 0.16303671527612534, 0.61138768228547, 0.12200736195761304, 0.06100368097880652, 0.7930478527244847, 0.9689417316916659, 0.9221037146690149, 0.9409519558443095, 0.9228255830554707, 0.01984571146355851, 0.05953713439067553, 0.9812160129857839, 0.873242573569668, 0.12841802552495118, 0.8302393228428313, 0.14232674105877108, 0.8806487440040285, 0.09269986778989774, 0.2320447483298615, 0.20626199851543245, 0.5672204959174392, 0.9521364118540776, 0.027203897481545076, 0.48232142160833086, 0.5261688235727245, 0.5674681997547547, 0.022109150639795638, 0.4127041452761852, 0.22105054713449268, 0.05526263678362317, 0.7184142781871011, 0.6860856365640831, 0.02079047383527524, 0.31185710752912865, 0.19580561397184706, 0.1468542104788853, 0.6853196489014648, 0.05177949116382877, 0.9061410953670034, 0.05177949116382877, 0.9484503582794683, 0.05927814739246677, 0.55947467676212, 0.15984990764632, 0.271744842998744, 0.9220999117063493, 0.9689530295819391, 0.9038484774937279, 0.6121079566868975, 0.17488798762482788, 0.20986558514979345, 0.8615279313590515, 0.9023022887093282, 0.0859335513056503, 0.09271554545357909, 0.37086218181431635, 0.5253880909036148, 0.9574108937941731, 0.10778832392417334, 0.9162007533554735, 0.17055168834552534, 0.767482597554864, 0.9052939468002653, 0.548366400686795, 0.047684034842330004, 0.42915631358097, 0.9689484468841338, 0.09914272071967549, 0.8922844864770794, 0.08277925984669754, 0.8691822283903241, 0.04138962992334877, 0.08269632273246837, 0.909659550057152, 0.027565440910822792, 0.302918828528401, 0.26252965139128087, 0.4240863599397614, 0.05884502559365619, 0.941520409498499, 0.9220982754857463, 0.9001864384615101, 0.07501553653845917, 0.03750776826922959, 0.94069077483122, 0.5467524290405775, 0.10125044982232917, 0.3442515293959192, 0.9189647407308557, 0.07068959544083504, 0.9448371468188551, 0.9320566823989049, 0.7066543777839407, 0.1643382273916141, 0.1479044046524527, 0.9942581250945867, 0.12216073722000792, 0.06108036861000396, 0.7940447919300515, 0.9221109799444035, 0.05905080857835551, 0.8857621286753327, 0.4644189671547688, 0.3642501703174657, 0.17301883090079623, 0.11104001649630454, 0.16656002474445683, 0.7217601072259795, 0.7571428483049637, 0.18596491010999108, 0.06641603932499682, 0.4186189913910113, 0.17626062795411002, 0.40760270214387945, 0.10764040370477747, 0.8611232296382197, 0.967420721027095, 0.9559643690868532, 0.10748481947273257, 0.8598785557818606, 0.9214570892592476, 0.890088587121524, 0.10471630436723812, 0.870027915638898, 0.06899637783307325, 0.9659492896630255, 0.9801868195888697, 0.8982150160028489, 0.9502715208904555, 0.9765225782875468, 0.8982132235895995, 0.9053119306597358, 0.994333818924933, 0.966666982690236, 0.21102315511964395, 0.21102315511964395, 0.6066915709689763, 0.3631995663073833, 0.504443842093588, 0.12106652210246109, 0.17320389304320788, 0.2020712085504092, 0.635080941158429, 0.8459914735683886, 0.030213981198871018, 0.12085592479548407, 0.9213734039899509, 0.08011942643390878, 0.9584744581500136, 0.07987287151250114, 0.9209887867922019, 0.20320635756836367, 0.8128254302734547, 0.10305274622394472, 0.8759483429035301, 0.9220817251604123, 0.994261659085212, 0.9112844265766807, 0.9487442045521103, 0.041249748024004794, 0.9162525662714615, 0.22469170475396621, 0.6419762992970464, 0.13481502285237973, 0.10200196696882398, 0.6885132770395619, 0.20400393393764796, 0.24187472062401996, 0.06046868015600499, 0.7256241618720599, 0.9689371601609552, 0.944253009030274, 0.9444540546489074, 0.04637308718354334, 0.7651559385284651, 0.20867889232594503, 0.1168351577083267, 0.8762636828124503, 0.28915761635720966, 0.4819293605953494, 0.22891644628279095, 0.9209906772940817, 0.29534614622665256, 0.2215096096699894, 0.46763139819219984, 0.9801936081962617, 0.9038389281176575, 0.944328627837738, 0.8231234980212666, 0.08231234980212666, 0.08231234980212666, 0.8982271670744221, 0.9942616831565901, 0.9220967891045472, 0.9320572598906389, 0.9689317531658396, 0.9036618761645384, 0.5397240459093545, 0.3367085790994138, 0.1237899187865492, 0.9221065460632639, 0.9051147604358594, 0.03781666039090888, 0.8319665285999952, 0.11344998117272663, 0.08373887072427559, 0.016747774144855117, 0.9043798038221764, 0.9524341803356279, 0.024421389239375074, 0.024421389239375074, 0.9052306965138927, 0.5982579501560569, 0.3739112188475356, 0.037391121884753555, 0.9330044001711921, 0.051833577787288455, 0.9209935751170195, 0.8272710183557899, 0.0318181160906073, 0.1272724643624292, 0.9053108634220352, 0.3075967631784221, 0.6371647237267315, 0.04394239473977459, 0.06793517669946861, 0.8265446498435347, 0.11322529449911435, 0.9689440005852038, 0.968946262264756, 0.9557130910218212, 0.747714387744571, 0.07009822385105352, 0.1635625223191249, 0.8338200640997268, 0.161384528535431, 0.4808221090510501, 0.14794526432340002, 0.36986316080850007, 0.8179197387191757, 0.030293323656265764, 0.15146661828132882, 0.31483971568238817, 0.37780765881886585, 0.29909772989826877, 0.2761067139757013, 0.3632983078627649, 0.3632983078627649, 0.44341517570482497, 0.3695126464206875, 0.18475632321034374, 0.9213439190758486, 0.922096794288149, 0.966513138004719, 0.03772245986147654, 0.8676165768139605, 0.07544491972295309, 0.43309669250552685, 0.17644680065039983, 0.39299514690316323, 0.41273898929351055, 0.3123430189248188, 0.2788776954685882, 0.9220967870885253, 0.9442570865995294, 0.9801827631753621, 0.8617986265584507, 0.3162402129911984, 0.0395300266238998, 0.6720104526062967, 0.8699671594097113, 0.9502930497104134, 0.02153118004060982, 0.850481611604088, 0.12918708024365894, 0.9649430933512245, 0.028948292800536738, 0.9593445584228608, 0.04796722792114304, 0.9442783724589299, 0.04606235963214292, 0.31697171471281227, 0.5230033292761402, 0.15848585735640613, 0.08020495030074382, 0.16040990060148763, 0.8020495030074382, 0.898217051642073, 0.8982189816750563, 0.257881980658105, 0.5648843385844206, 0.1842014147557893, 0.07911592260269507, 0.896647122830544, 0.026371974200898353, 0.3231636211466773, 0.5132598688800168, 0.15207699818667164], \"Term\": [\"acids\", \"african\", \"african\", \"age\", \"age\", \"age\", \"agora\", \"air\", \"air\", \"air\", \"american\", \"american\", \"american\", \"americans\", \"ancient\", \"ancient\", \"ancient\", \"android\", \"antenna\", \"atmosphere\", \"atmosphere\", \"atoms\", \"atoms\", \"biodiesel\", \"blood\", \"blood\", \"blood\", \"body\", \"body\", \"body\", \"britain\", \"called\", \"called\", \"called\", \"cameras\", \"cameras\", \"cameras\", \"cards\", \"cards\", \"cavalry\", \"cell\", \"cell\", \"cell\", \"cells\", \"cells\", \"cells\", \"century\", \"century\", \"century\", \"charge\", \"chemical\", \"chemical\", \"china\", \"china\", \"code\", \"code\", \"commerce\", \"commerce\", \"computers\", \"computers\", \"computers\", \"countries\", \"countries\", \"countries\", \"country\", \"country\", \"country\", \"crust\", \"crust\", \"crystal\", \"crystal\", \"crystal\", \"cuneiform\", \"data\", \"data\", \"data\", \"database\", \"density\", \"density\", \"design\", \"design\", \"design\", \"devices\", \"devices\", \"devices\", \"different\", \"different\", \"different\", \"digital\", \"digital\", \"digital\", \"display\", \"display\", \"display\", \"displays\", \"dormancy\", \"dvi\", \"earth\", \"earth\", \"earth\", \"economic\", \"electric\", \"electric\", \"electricity\", \"electricity\", \"electromagnetic\", \"electromagnetic\", \"electronic\", \"electronic\", \"electronic\", \"electrons\", \"electrons\", \"empire\", \"empire\", \"energy\", \"energy\", \"energy\", \"engine\", \"engine\", \"engine\", \"engineering\", \"engineering\", \"engineering\", \"environmental\", \"environmental\", \"environmental\", \"europe\", \"europe\", \"europe\", \"european\", \"european\", \"example\", \"example\", \"example\", \"fish\", \"flora\", \"followed\", \"form\", \"form\", \"form\", \"format\", \"france\", \"france\", \"free\", \"free\", \"free\", \"friction\", \"galaxy\", \"galaxy\", \"game\", \"game\", \"gamification\", \"gas\", \"gas\", \"gas\", \"geometry\", \"germany\", \"germany\", \"government\", \"government\", \"government\", \"great\", \"great\", \"great\", \"greek\", \"greek\", \"greek\", \"hardware\", \"hardware\", \"hdmi\", \"heart\", \"heart\", \"heart\", \"helium\", \"high\", \"high\", \"high\", \"hydrogen\", \"hydrogen\", \"ii\", \"independence\", \"information\", \"information\", \"information\", \"innovation\", \"interface\", \"interface\", \"interface\", \"java\", \"kingdom\", \"kingdom\", \"known\", \"known\", \"known\", \"language\", \"language\", \"language\", \"light\", \"light\", \"light\", \"like\", \"like\", \"like\", \"linux\", \"linux\", \"magnetic\", \"mail\", \"management\", \"management\", \"mars\", \"measured\", \"measured\", \"members\", \"milky\", \"milky\", \"mineral\", \"minerals\", \"monarch\", \"monarchy\", \"moon\", \"multimedia\", \"nazi\", \"neolithic\", \"network\", \"network\", \"network\", \"new\", \"new\", \"new\", \"nuclear\", \"nuclear\", \"nuclear\", \"object\", \"object\", \"object\", \"ocean\", \"ocean\", \"oceanic\", \"oceanic\", \"oceans\", \"oil\", \"oil\", \"operating\", \"operating\", \"os\", \"paintings\", \"parliament\", \"particles\", \"particles\", \"party\", \"people\", \"people\", \"people\", \"period\", \"period\", \"period\", \"personal\", \"personal\", \"personal\", \"petroleum\", \"planet\", \"planets\", \"political\", \"political\", \"political\", \"potential\", \"potential\", \"power\", \"power\", \"power\", \"precipitation\", \"process\", \"process\", \"process\", \"proteins\", \"prussia\", \"quantum\", \"radio\", \"radio\", \"radio\", \"reality\", \"rebellion\", \"replay\", \"republic\", \"respiratory\", \"russia\", \"s\", \"s\", \"s\", \"sd\", \"selection\", \"social\", \"social\", \"social\", \"software\", \"software\", \"software\", \"solar\", \"solar\", \"solar\", \"solvent\", \"sound\", \"sound\", \"sound\", \"soviet\", \"soviet\", \"spacecraft\", \"speed\", \"speed\", \"speed\", \"starch\", \"state\", \"state\", \"state\", \"states\", \"states\", \"states\", \"steel\", \"steelmaking\", \"stone\", \"sun\", \"sun\", \"sun\", \"surface\", \"surface\", \"systems\", \"systems\", \"systems\", \"temperature\", \"temperature\", \"temperature\", \"term\", \"term\", \"term\", \"th\", \"th\", \"th\", \"time\", \"time\", \"time\", \"tissue\", \"tyrant\", \"union\", \"united\", \"united\", \"united\", \"use\", \"use\", \"use\", \"usually\", \"usually\", \"usually\", \"utility\", \"vapor\", \"velocity\", \"vertebrates\", \"video\", \"video\", \"video\", \"viscosity\", \"wall\", \"war\", \"war\", \"war\", \"water\", \"water\", \"wave\", \"wave\", \"waves\", \"waves\", \"way\", \"way\", \"way\", \"web\", \"web\", \"web\", \"welding\", \"wire\", \"world\", \"world\", \"world\", \"year\", \"year\", \"year\", \"years\", \"years\", \"years\"]}, \"R\": 30, \"lambda.step\": 0.01, \"plot.opts\": {\"xlab\": \"PC1\", \"ylab\": \"PC2\"}, \"topic.order\": [1, 2, 3]};\n",
              "\n",
              "function LDAvis_load_lib(url, callback){\n",
              "  var s = document.createElement('script');\n",
              "  s.src = url;\n",
              "  s.async = true;\n",
              "  s.onreadystatechange = s.onload = callback;\n",
              "  s.onerror = function(){console.warn(\"failed to load library \" + url);};\n",
              "  document.getElementsByTagName(\"head\")[0].appendChild(s);\n",
              "}\n",
              "\n",
              "if(typeof(LDAvis) !== \"undefined\"){\n",
              "   // already loaded: just create the visualization\n",
              "   !function(LDAvis){\n",
              "       new LDAvis(\"#\" + \"ldavis_el47951398327577032161175411407\", ldavis_el47951398327577032161175411407_data);\n",
              "   }(LDAvis);\n",
              "}else if(typeof define === \"function\" && define.amd){\n",
              "   // require.js is available: use it to load d3/LDAvis\n",
              "   require.config({paths: {d3: \"https://d3js.org/d3.v5\"}});\n",
              "   require([\"d3\"], function(d3){\n",
              "      window.d3 = d3;\n",
              "      LDAvis_load_lib(\"https://cdn.jsdelivr.net/gh/bmabey/pyLDAvis@3.4.0/pyLDAvis/js/ldavis.v3.0.0.js\", function(){\n",
              "        new LDAvis(\"#\" + \"ldavis_el47951398327577032161175411407\", ldavis_el47951398327577032161175411407_data);\n",
              "      });\n",
              "    });\n",
              "}else{\n",
              "    // require.js not available: dynamically load d3 & LDAvis\n",
              "    LDAvis_load_lib(\"https://d3js.org/d3.v5.js\", function(){\n",
              "         LDAvis_load_lib(\"https://cdn.jsdelivr.net/gh/bmabey/pyLDAvis@3.4.0/pyLDAvis/js/ldavis.v3.0.0.js\", function(){\n",
              "                 new LDAvis(\"#\" + \"ldavis_el47951398327577032161175411407\", ldavis_el47951398327577032161175411407_data);\n",
              "            })\n",
              "         });\n",
              "}\n",
              "</script>"
            ]
          },
          "metadata": {},
          "execution_count": 23
        }
      ]
    },
    {
      "cell_type": "markdown",
      "source": [
        "Definitely seems to be picking up on the topics"
      ],
      "metadata": {
        "id": "UpoTigEFfxhL"
      }
    },
    {
      "cell_type": "markdown",
      "source": [
        "## Testing\n",
        "- Let's test our model by comparing it to the domains.\n",
        "- We will use the `LdaModel().get_document_topics()` method to get topics from new texts.\n",
        "- We set minimum probability to 0 because we want to get a tuple with length = 3 for each item.\n"
      ],
      "metadata": {
        "id": "qVu9w5098ago"
      }
    },
    {
      "cell_type": "code",
      "source": [
        "# Remember, we have already tokenized the test set above.\n",
        "\n",
        "# Get bag of words representations of the tokenized test set using  gensim_dictionary from previous\n",
        "test_corpus = [gensim_dictionary.doc2bow(text) for text in test_tokenized]\n",
        "# Get predicted topic distribution for each documents in test set using trained LDA model\n",
        "preds = lda_model_3topics.get_document_topics(test_corpus,\n",
        "                                              minimum_probability = 0,  # Ensure all topics included\n",
        "                                              per_word_topics = False)  # Only document level distribution\n",
        "\n",
        "# We get our predicted topics by getting the max score across the three.\n",
        "predicted_topics = [np.argmax(np.array([score[1] for score in doc])) for doc in preds]\n",
        "\n",
        "# [score[1] for score in doc] = extract probability score for each topic\n",
        "# np.argmax = find and assign topic to text\n",
        "\n",
        "# Predicted_topics # what are the predicted topics\n",
        "# len(predicted_topics) # there are 60 of them.\n",
        "\n",
        "\n",
        "\n",
        "# Set the dataframe 'preds' column for the predicted topics.\n",
        "test['lda_bow_preds'] = predicted_topics\n",
        "test[['Domain','lda_bow_preds']].head()  # Show domain and prediction columns in test set"
      ],
      "metadata": {
        "colab": {
          "base_uri": "https://localhost:8080/",
          "height": 206
        },
        "id": "wDPcvPvM3dco",
        "outputId": "c313dbd4-52d1-4379-ade7-390b8edeedd8"
      },
      "execution_count": null,
      "outputs": [
        {
          "output_type": "execute_result",
          "data": {
            "text/plain": [
              "         Domain  lda_bow_preds\n",
              "505     History              0\n",
              "586     History              1\n",
              "195     History              1\n",
              "165  Technology              0\n",
              "453     History              1"
            ],
            "text/html": [
              "\n",
              "  <div id=\"df-ef65f0a6-aaa0-4d1a-bdb1-51c189616efc\" class=\"colab-df-container\">\n",
              "    <div>\n",
              "<style scoped>\n",
              "    .dataframe tbody tr th:only-of-type {\n",
              "        vertical-align: middle;\n",
              "    }\n",
              "\n",
              "    .dataframe tbody tr th {\n",
              "        vertical-align: top;\n",
              "    }\n",
              "\n",
              "    .dataframe thead th {\n",
              "        text-align: right;\n",
              "    }\n",
              "</style>\n",
              "<table border=\"1\" class=\"dataframe\">\n",
              "  <thead>\n",
              "    <tr style=\"text-align: right;\">\n",
              "      <th></th>\n",
              "      <th>Domain</th>\n",
              "      <th>lda_bow_preds</th>\n",
              "    </tr>\n",
              "  </thead>\n",
              "  <tbody>\n",
              "    <tr>\n",
              "      <th>505</th>\n",
              "      <td>History</td>\n",
              "      <td>0</td>\n",
              "    </tr>\n",
              "    <tr>\n",
              "      <th>586</th>\n",
              "      <td>History</td>\n",
              "      <td>1</td>\n",
              "    </tr>\n",
              "    <tr>\n",
              "      <th>195</th>\n",
              "      <td>History</td>\n",
              "      <td>1</td>\n",
              "    </tr>\n",
              "    <tr>\n",
              "      <th>165</th>\n",
              "      <td>Technology</td>\n",
              "      <td>0</td>\n",
              "    </tr>\n",
              "    <tr>\n",
              "      <th>453</th>\n",
              "      <td>History</td>\n",
              "      <td>1</td>\n",
              "    </tr>\n",
              "  </tbody>\n",
              "</table>\n",
              "</div>\n",
              "    <div class=\"colab-df-buttons\">\n",
              "\n",
              "  <div class=\"colab-df-container\">\n",
              "    <button class=\"colab-df-convert\" onclick=\"convertToInteractive('df-ef65f0a6-aaa0-4d1a-bdb1-51c189616efc')\"\n",
              "            title=\"Convert this dataframe to an interactive table.\"\n",
              "            style=\"display:none;\">\n",
              "\n",
              "  <svg xmlns=\"http://www.w3.org/2000/svg\" height=\"24px\" viewBox=\"0 -960 960 960\">\n",
              "    <path d=\"M120-120v-720h720v720H120Zm60-500h600v-160H180v160Zm220 220h160v-160H400v160Zm0 220h160v-160H400v160ZM180-400h160v-160H180v160Zm440 0h160v-160H620v160ZM180-180h160v-160H180v160Zm440 0h160v-160H620v160Z\"/>\n",
              "  </svg>\n",
              "    </button>\n",
              "\n",
              "  <style>\n",
              "    .colab-df-container {\n",
              "      display:flex;\n",
              "      gap: 12px;\n",
              "    }\n",
              "\n",
              "    .colab-df-convert {\n",
              "      background-color: #E8F0FE;\n",
              "      border: none;\n",
              "      border-radius: 50%;\n",
              "      cursor: pointer;\n",
              "      display: none;\n",
              "      fill: #1967D2;\n",
              "      height: 32px;\n",
              "      padding: 0 0 0 0;\n",
              "      width: 32px;\n",
              "    }\n",
              "\n",
              "    .colab-df-convert:hover {\n",
              "      background-color: #E2EBFA;\n",
              "      box-shadow: 0px 1px 2px rgba(60, 64, 67, 0.3), 0px 1px 3px 1px rgba(60, 64, 67, 0.15);\n",
              "      fill: #174EA6;\n",
              "    }\n",
              "\n",
              "    .colab-df-buttons div {\n",
              "      margin-bottom: 4px;\n",
              "    }\n",
              "\n",
              "    [theme=dark] .colab-df-convert {\n",
              "      background-color: #3B4455;\n",
              "      fill: #D2E3FC;\n",
              "    }\n",
              "\n",
              "    [theme=dark] .colab-df-convert:hover {\n",
              "      background-color: #434B5C;\n",
              "      box-shadow: 0px 1px 3px 1px rgba(0, 0, 0, 0.15);\n",
              "      filter: drop-shadow(0px 1px 2px rgba(0, 0, 0, 0.3));\n",
              "      fill: #FFFFFF;\n",
              "    }\n",
              "  </style>\n",
              "\n",
              "    <script>\n",
              "      const buttonEl =\n",
              "        document.querySelector('#df-ef65f0a6-aaa0-4d1a-bdb1-51c189616efc button.colab-df-convert');\n",
              "      buttonEl.style.display =\n",
              "        google.colab.kernel.accessAllowed ? 'block' : 'none';\n",
              "\n",
              "      async function convertToInteractive(key) {\n",
              "        const element = document.querySelector('#df-ef65f0a6-aaa0-4d1a-bdb1-51c189616efc');\n",
              "        const dataTable =\n",
              "          await google.colab.kernel.invokeFunction('convertToInteractive',\n",
              "                                                    [key], {});\n",
              "        if (!dataTable) return;\n",
              "\n",
              "        const docLinkHtml = 'Like what you see? Visit the ' +\n",
              "          '<a target=\"_blank\" href=https://colab.research.google.com/notebooks/data_table.ipynb>data table notebook</a>'\n",
              "          + ' to learn more about interactive tables.';\n",
              "        element.innerHTML = '';\n",
              "        dataTable['output_type'] = 'display_data';\n",
              "        await google.colab.output.renderOutput(dataTable, element);\n",
              "        const docLink = document.createElement('div');\n",
              "        docLink.innerHTML = docLinkHtml;\n",
              "        element.appendChild(docLink);\n",
              "      }\n",
              "    </script>\n",
              "  </div>\n",
              "\n",
              "\n",
              "<div id=\"df-d182cd0d-07bd-454b-8028-b230677b31e3\">\n",
              "  <button class=\"colab-df-quickchart\" onclick=\"quickchart('df-d182cd0d-07bd-454b-8028-b230677b31e3')\"\n",
              "            title=\"Suggest charts\"\n",
              "            style=\"display:none;\">\n",
              "\n",
              "<svg xmlns=\"http://www.w3.org/2000/svg\" height=\"24px\"viewBox=\"0 0 24 24\"\n",
              "     width=\"24px\">\n",
              "    <g>\n",
              "        <path d=\"M19 3H5c-1.1 0-2 .9-2 2v14c0 1.1.9 2 2 2h14c1.1 0 2-.9 2-2V5c0-1.1-.9-2-2-2zM9 17H7v-7h2v7zm4 0h-2V7h2v10zm4 0h-2v-4h2v4z\"/>\n",
              "    </g>\n",
              "</svg>\n",
              "  </button>\n",
              "\n",
              "<style>\n",
              "  .colab-df-quickchart {\n",
              "      --bg-color: #E8F0FE;\n",
              "      --fill-color: #1967D2;\n",
              "      --hover-bg-color: #E2EBFA;\n",
              "      --hover-fill-color: #174EA6;\n",
              "      --disabled-fill-color: #AAA;\n",
              "      --disabled-bg-color: #DDD;\n",
              "  }\n",
              "\n",
              "  [theme=dark] .colab-df-quickchart {\n",
              "      --bg-color: #3B4455;\n",
              "      --fill-color: #D2E3FC;\n",
              "      --hover-bg-color: #434B5C;\n",
              "      --hover-fill-color: #FFFFFF;\n",
              "      --disabled-bg-color: #3B4455;\n",
              "      --disabled-fill-color: #666;\n",
              "  }\n",
              "\n",
              "  .colab-df-quickchart {\n",
              "    background-color: var(--bg-color);\n",
              "    border: none;\n",
              "    border-radius: 50%;\n",
              "    cursor: pointer;\n",
              "    display: none;\n",
              "    fill: var(--fill-color);\n",
              "    height: 32px;\n",
              "    padding: 0;\n",
              "    width: 32px;\n",
              "  }\n",
              "\n",
              "  .colab-df-quickchart:hover {\n",
              "    background-color: var(--hover-bg-color);\n",
              "    box-shadow: 0 1px 2px rgba(60, 64, 67, 0.3), 0 1px 3px 1px rgba(60, 64, 67, 0.15);\n",
              "    fill: var(--button-hover-fill-color);\n",
              "  }\n",
              "\n",
              "  .colab-df-quickchart-complete:disabled,\n",
              "  .colab-df-quickchart-complete:disabled:hover {\n",
              "    background-color: var(--disabled-bg-color);\n",
              "    fill: var(--disabled-fill-color);\n",
              "    box-shadow: none;\n",
              "  }\n",
              "\n",
              "  .colab-df-spinner {\n",
              "    border: 2px solid var(--fill-color);\n",
              "    border-color: transparent;\n",
              "    border-bottom-color: var(--fill-color);\n",
              "    animation:\n",
              "      spin 1s steps(1) infinite;\n",
              "  }\n",
              "\n",
              "  @keyframes spin {\n",
              "    0% {\n",
              "      border-color: transparent;\n",
              "      border-bottom-color: var(--fill-color);\n",
              "      border-left-color: var(--fill-color);\n",
              "    }\n",
              "    20% {\n",
              "      border-color: transparent;\n",
              "      border-left-color: var(--fill-color);\n",
              "      border-top-color: var(--fill-color);\n",
              "    }\n",
              "    30% {\n",
              "      border-color: transparent;\n",
              "      border-left-color: var(--fill-color);\n",
              "      border-top-color: var(--fill-color);\n",
              "      border-right-color: var(--fill-color);\n",
              "    }\n",
              "    40% {\n",
              "      border-color: transparent;\n",
              "      border-right-color: var(--fill-color);\n",
              "      border-top-color: var(--fill-color);\n",
              "    }\n",
              "    60% {\n",
              "      border-color: transparent;\n",
              "      border-right-color: var(--fill-color);\n",
              "    }\n",
              "    80% {\n",
              "      border-color: transparent;\n",
              "      border-right-color: var(--fill-color);\n",
              "      border-bottom-color: var(--fill-color);\n",
              "    }\n",
              "    90% {\n",
              "      border-color: transparent;\n",
              "      border-bottom-color: var(--fill-color);\n",
              "    }\n",
              "  }\n",
              "</style>\n",
              "\n",
              "  <script>\n",
              "    async function quickchart(key) {\n",
              "      const quickchartButtonEl =\n",
              "        document.querySelector('#' + key + ' button');\n",
              "      quickchartButtonEl.disabled = true;  // To prevent multiple clicks.\n",
              "      quickchartButtonEl.classList.add('colab-df-spinner');\n",
              "      try {\n",
              "        const charts = await google.colab.kernel.invokeFunction(\n",
              "            'suggestCharts', [key], {});\n",
              "      } catch (error) {\n",
              "        console.error('Error during call to suggestCharts:', error);\n",
              "      }\n",
              "      quickchartButtonEl.classList.remove('colab-df-spinner');\n",
              "      quickchartButtonEl.classList.add('colab-df-quickchart-complete');\n",
              "    }\n",
              "    (() => {\n",
              "      let quickchartButtonEl =\n",
              "        document.querySelector('#df-d182cd0d-07bd-454b-8028-b230677b31e3 button');\n",
              "      quickchartButtonEl.style.display =\n",
              "        google.colab.kernel.accessAllowed ? 'block' : 'none';\n",
              "    })();\n",
              "  </script>\n",
              "</div>\n",
              "\n",
              "    </div>\n",
              "  </div>\n"
            ],
            "application/vnd.google.colaboratory.intrinsic+json": {
              "type": "dataframe",
              "summary": "{\n  \"name\": \"test[['Domain','lda_bow_preds']]\",\n  \"rows\": 5,\n  \"fields\": [\n    {\n      \"column\": \"Domain\",\n      \"properties\": {\n        \"dtype\": \"category\",\n        \"num_unique_values\": 2,\n        \"samples\": [\n          \"Technology\",\n          \"History\"\n        ],\n        \"semantic_type\": \"\",\n        \"description\": \"\"\n      }\n    },\n    {\n      \"column\": \"lda_bow_preds\",\n      \"properties\": {\n        \"dtype\": \"number\",\n        \"std\": 0,\n        \"min\": 0,\n        \"max\": 1,\n        \"num_unique_values\": 2,\n        \"samples\": [\n          1,\n          0\n        ],\n        \"semantic_type\": \"\",\n        \"description\": \"\"\n      }\n    }\n  ]\n}"
            }
          },
          "metadata": {},
          "execution_count": 24
        }
      ]
    },
    {
      "cell_type": "markdown",
      "source": [
        "Now, let's add the actual topic scores to the test dataframe just in case we want to use it at some other point\n",
        "\n",
        "  - Correlate with readability score\n",
        "  - Separate simple from authentic"
      ],
      "metadata": {
        "id": "S7eEuxbX-88m"
      }
    },
    {
      "cell_type": "code",
      "source": [
        "# Create a df with predicted topic distributions\n",
        "topic_scores = pd.DataFrame([[score[1] for score in doc] for doc in preds],  # Grab up scores\n",
        "                               columns=[f'Topic_{i}' for i in range(3)],  # Create column names\n",
        "                               index=test.index)  # Set index to test corpus for later merging\n",
        "\n",
        "\n",
        "topic_scores\n"
      ],
      "metadata": {
        "colab": {
          "base_uri": "https://localhost:8080/",
          "height": 423
        },
        "id": "wSSN5QNb0ICh",
        "outputId": "e9bbaf13-723e-42a2-a3eb-452a2c6d1396"
      },
      "execution_count": null,
      "outputs": [
        {
          "output_type": "execute_result",
          "data": {
            "text/plain": [
              "      Topic_0   Topic_1   Topic_2\n",
              "505  0.619879  0.367129  0.012992\n",
              "586  0.244226  0.741984  0.013790\n",
              "195  0.149250  0.713164  0.137586\n",
              "165  0.846114  0.080617  0.073269\n",
              "453  0.006863  0.792196  0.200941\n",
              "..        ...       ...       ...\n",
              "473  0.009790  0.565927  0.424282\n",
              "234  0.127957  0.357510  0.514533\n",
              "300  0.849160  0.128878  0.021962\n",
              "212  0.174557  0.400869  0.424574\n",
              "238  0.004568  0.990175  0.005256\n",
              "\n",
              "[119 rows x 3 columns]"
            ],
            "text/html": [
              "\n",
              "  <div id=\"df-58a31690-401d-4aeb-8cea-353ebf7d3af2\" class=\"colab-df-container\">\n",
              "    <div>\n",
              "<style scoped>\n",
              "    .dataframe tbody tr th:only-of-type {\n",
              "        vertical-align: middle;\n",
              "    }\n",
              "\n",
              "    .dataframe tbody tr th {\n",
              "        vertical-align: top;\n",
              "    }\n",
              "\n",
              "    .dataframe thead th {\n",
              "        text-align: right;\n",
              "    }\n",
              "</style>\n",
              "<table border=\"1\" class=\"dataframe\">\n",
              "  <thead>\n",
              "    <tr style=\"text-align: right;\">\n",
              "      <th></th>\n",
              "      <th>Topic_0</th>\n",
              "      <th>Topic_1</th>\n",
              "      <th>Topic_2</th>\n",
              "    </tr>\n",
              "  </thead>\n",
              "  <tbody>\n",
              "    <tr>\n",
              "      <th>505</th>\n",
              "      <td>0.619879</td>\n",
              "      <td>0.367129</td>\n",
              "      <td>0.012992</td>\n",
              "    </tr>\n",
              "    <tr>\n",
              "      <th>586</th>\n",
              "      <td>0.244226</td>\n",
              "      <td>0.741984</td>\n",
              "      <td>0.013790</td>\n",
              "    </tr>\n",
              "    <tr>\n",
              "      <th>195</th>\n",
              "      <td>0.149250</td>\n",
              "      <td>0.713164</td>\n",
              "      <td>0.137586</td>\n",
              "    </tr>\n",
              "    <tr>\n",
              "      <th>165</th>\n",
              "      <td>0.846114</td>\n",
              "      <td>0.080617</td>\n",
              "      <td>0.073269</td>\n",
              "    </tr>\n",
              "    <tr>\n",
              "      <th>453</th>\n",
              "      <td>0.006863</td>\n",
              "      <td>0.792196</td>\n",
              "      <td>0.200941</td>\n",
              "    </tr>\n",
              "    <tr>\n",
              "      <th>...</th>\n",
              "      <td>...</td>\n",
              "      <td>...</td>\n",
              "      <td>...</td>\n",
              "    </tr>\n",
              "    <tr>\n",
              "      <th>473</th>\n",
              "      <td>0.009790</td>\n",
              "      <td>0.565927</td>\n",
              "      <td>0.424282</td>\n",
              "    </tr>\n",
              "    <tr>\n",
              "      <th>234</th>\n",
              "      <td>0.127957</td>\n",
              "      <td>0.357510</td>\n",
              "      <td>0.514533</td>\n",
              "    </tr>\n",
              "    <tr>\n",
              "      <th>300</th>\n",
              "      <td>0.849160</td>\n",
              "      <td>0.128878</td>\n",
              "      <td>0.021962</td>\n",
              "    </tr>\n",
              "    <tr>\n",
              "      <th>212</th>\n",
              "      <td>0.174557</td>\n",
              "      <td>0.400869</td>\n",
              "      <td>0.424574</td>\n",
              "    </tr>\n",
              "    <tr>\n",
              "      <th>238</th>\n",
              "      <td>0.004568</td>\n",
              "      <td>0.990175</td>\n",
              "      <td>0.005256</td>\n",
              "    </tr>\n",
              "  </tbody>\n",
              "</table>\n",
              "<p>119 rows × 3 columns</p>\n",
              "</div>\n",
              "    <div class=\"colab-df-buttons\">\n",
              "\n",
              "  <div class=\"colab-df-container\">\n",
              "    <button class=\"colab-df-convert\" onclick=\"convertToInteractive('df-58a31690-401d-4aeb-8cea-353ebf7d3af2')\"\n",
              "            title=\"Convert this dataframe to an interactive table.\"\n",
              "            style=\"display:none;\">\n",
              "\n",
              "  <svg xmlns=\"http://www.w3.org/2000/svg\" height=\"24px\" viewBox=\"0 -960 960 960\">\n",
              "    <path d=\"M120-120v-720h720v720H120Zm60-500h600v-160H180v160Zm220 220h160v-160H400v160Zm0 220h160v-160H400v160ZM180-400h160v-160H180v160Zm440 0h160v-160H620v160ZM180-180h160v-160H180v160Zm440 0h160v-160H620v160Z\"/>\n",
              "  </svg>\n",
              "    </button>\n",
              "\n",
              "  <style>\n",
              "    .colab-df-container {\n",
              "      display:flex;\n",
              "      gap: 12px;\n",
              "    }\n",
              "\n",
              "    .colab-df-convert {\n",
              "      background-color: #E8F0FE;\n",
              "      border: none;\n",
              "      border-radius: 50%;\n",
              "      cursor: pointer;\n",
              "      display: none;\n",
              "      fill: #1967D2;\n",
              "      height: 32px;\n",
              "      padding: 0 0 0 0;\n",
              "      width: 32px;\n",
              "    }\n",
              "\n",
              "    .colab-df-convert:hover {\n",
              "      background-color: #E2EBFA;\n",
              "      box-shadow: 0px 1px 2px rgba(60, 64, 67, 0.3), 0px 1px 3px 1px rgba(60, 64, 67, 0.15);\n",
              "      fill: #174EA6;\n",
              "    }\n",
              "\n",
              "    .colab-df-buttons div {\n",
              "      margin-bottom: 4px;\n",
              "    }\n",
              "\n",
              "    [theme=dark] .colab-df-convert {\n",
              "      background-color: #3B4455;\n",
              "      fill: #D2E3FC;\n",
              "    }\n",
              "\n",
              "    [theme=dark] .colab-df-convert:hover {\n",
              "      background-color: #434B5C;\n",
              "      box-shadow: 0px 1px 3px 1px rgba(0, 0, 0, 0.15);\n",
              "      filter: drop-shadow(0px 1px 2px rgba(0, 0, 0, 0.3));\n",
              "      fill: #FFFFFF;\n",
              "    }\n",
              "  </style>\n",
              "\n",
              "    <script>\n",
              "      const buttonEl =\n",
              "        document.querySelector('#df-58a31690-401d-4aeb-8cea-353ebf7d3af2 button.colab-df-convert');\n",
              "      buttonEl.style.display =\n",
              "        google.colab.kernel.accessAllowed ? 'block' : 'none';\n",
              "\n",
              "      async function convertToInteractive(key) {\n",
              "        const element = document.querySelector('#df-58a31690-401d-4aeb-8cea-353ebf7d3af2');\n",
              "        const dataTable =\n",
              "          await google.colab.kernel.invokeFunction('convertToInteractive',\n",
              "                                                    [key], {});\n",
              "        if (!dataTable) return;\n",
              "\n",
              "        const docLinkHtml = 'Like what you see? Visit the ' +\n",
              "          '<a target=\"_blank\" href=https://colab.research.google.com/notebooks/data_table.ipynb>data table notebook</a>'\n",
              "          + ' to learn more about interactive tables.';\n",
              "        element.innerHTML = '';\n",
              "        dataTable['output_type'] = 'display_data';\n",
              "        await google.colab.output.renderOutput(dataTable, element);\n",
              "        const docLink = document.createElement('div');\n",
              "        docLink.innerHTML = docLinkHtml;\n",
              "        element.appendChild(docLink);\n",
              "      }\n",
              "    </script>\n",
              "  </div>\n",
              "\n",
              "\n",
              "<div id=\"df-23cc20ca-b52d-4c2b-8592-de0db8b17b3e\">\n",
              "  <button class=\"colab-df-quickchart\" onclick=\"quickchart('df-23cc20ca-b52d-4c2b-8592-de0db8b17b3e')\"\n",
              "            title=\"Suggest charts\"\n",
              "            style=\"display:none;\">\n",
              "\n",
              "<svg xmlns=\"http://www.w3.org/2000/svg\" height=\"24px\"viewBox=\"0 0 24 24\"\n",
              "     width=\"24px\">\n",
              "    <g>\n",
              "        <path d=\"M19 3H5c-1.1 0-2 .9-2 2v14c0 1.1.9 2 2 2h14c1.1 0 2-.9 2-2V5c0-1.1-.9-2-2-2zM9 17H7v-7h2v7zm4 0h-2V7h2v10zm4 0h-2v-4h2v4z\"/>\n",
              "    </g>\n",
              "</svg>\n",
              "  </button>\n",
              "\n",
              "<style>\n",
              "  .colab-df-quickchart {\n",
              "      --bg-color: #E8F0FE;\n",
              "      --fill-color: #1967D2;\n",
              "      --hover-bg-color: #E2EBFA;\n",
              "      --hover-fill-color: #174EA6;\n",
              "      --disabled-fill-color: #AAA;\n",
              "      --disabled-bg-color: #DDD;\n",
              "  }\n",
              "\n",
              "  [theme=dark] .colab-df-quickchart {\n",
              "      --bg-color: #3B4455;\n",
              "      --fill-color: #D2E3FC;\n",
              "      --hover-bg-color: #434B5C;\n",
              "      --hover-fill-color: #FFFFFF;\n",
              "      --disabled-bg-color: #3B4455;\n",
              "      --disabled-fill-color: #666;\n",
              "  }\n",
              "\n",
              "  .colab-df-quickchart {\n",
              "    background-color: var(--bg-color);\n",
              "    border: none;\n",
              "    border-radius: 50%;\n",
              "    cursor: pointer;\n",
              "    display: none;\n",
              "    fill: var(--fill-color);\n",
              "    height: 32px;\n",
              "    padding: 0;\n",
              "    width: 32px;\n",
              "  }\n",
              "\n",
              "  .colab-df-quickchart:hover {\n",
              "    background-color: var(--hover-bg-color);\n",
              "    box-shadow: 0 1px 2px rgba(60, 64, 67, 0.3), 0 1px 3px 1px rgba(60, 64, 67, 0.15);\n",
              "    fill: var(--button-hover-fill-color);\n",
              "  }\n",
              "\n",
              "  .colab-df-quickchart-complete:disabled,\n",
              "  .colab-df-quickchart-complete:disabled:hover {\n",
              "    background-color: var(--disabled-bg-color);\n",
              "    fill: var(--disabled-fill-color);\n",
              "    box-shadow: none;\n",
              "  }\n",
              "\n",
              "  .colab-df-spinner {\n",
              "    border: 2px solid var(--fill-color);\n",
              "    border-color: transparent;\n",
              "    border-bottom-color: var(--fill-color);\n",
              "    animation:\n",
              "      spin 1s steps(1) infinite;\n",
              "  }\n",
              "\n",
              "  @keyframes spin {\n",
              "    0% {\n",
              "      border-color: transparent;\n",
              "      border-bottom-color: var(--fill-color);\n",
              "      border-left-color: var(--fill-color);\n",
              "    }\n",
              "    20% {\n",
              "      border-color: transparent;\n",
              "      border-left-color: var(--fill-color);\n",
              "      border-top-color: var(--fill-color);\n",
              "    }\n",
              "    30% {\n",
              "      border-color: transparent;\n",
              "      border-left-color: var(--fill-color);\n",
              "      border-top-color: var(--fill-color);\n",
              "      border-right-color: var(--fill-color);\n",
              "    }\n",
              "    40% {\n",
              "      border-color: transparent;\n",
              "      border-right-color: var(--fill-color);\n",
              "      border-top-color: var(--fill-color);\n",
              "    }\n",
              "    60% {\n",
              "      border-color: transparent;\n",
              "      border-right-color: var(--fill-color);\n",
              "    }\n",
              "    80% {\n",
              "      border-color: transparent;\n",
              "      border-right-color: var(--fill-color);\n",
              "      border-bottom-color: var(--fill-color);\n",
              "    }\n",
              "    90% {\n",
              "      border-color: transparent;\n",
              "      border-bottom-color: var(--fill-color);\n",
              "    }\n",
              "  }\n",
              "</style>\n",
              "\n",
              "  <script>\n",
              "    async function quickchart(key) {\n",
              "      const quickchartButtonEl =\n",
              "        document.querySelector('#' + key + ' button');\n",
              "      quickchartButtonEl.disabled = true;  // To prevent multiple clicks.\n",
              "      quickchartButtonEl.classList.add('colab-df-spinner');\n",
              "      try {\n",
              "        const charts = await google.colab.kernel.invokeFunction(\n",
              "            'suggestCharts', [key], {});\n",
              "      } catch (error) {\n",
              "        console.error('Error during call to suggestCharts:', error);\n",
              "      }\n",
              "      quickchartButtonEl.classList.remove('colab-df-spinner');\n",
              "      quickchartButtonEl.classList.add('colab-df-quickchart-complete');\n",
              "    }\n",
              "    (() => {\n",
              "      let quickchartButtonEl =\n",
              "        document.querySelector('#df-23cc20ca-b52d-4c2b-8592-de0db8b17b3e button');\n",
              "      quickchartButtonEl.style.display =\n",
              "        google.colab.kernel.accessAllowed ? 'block' : 'none';\n",
              "    })();\n",
              "  </script>\n",
              "</div>\n",
              "\n",
              "  <div id=\"id_580c539b-3085-44eb-a1e3-b618f854d967\">\n",
              "    <style>\n",
              "      .colab-df-generate {\n",
              "        background-color: #E8F0FE;\n",
              "        border: none;\n",
              "        border-radius: 50%;\n",
              "        cursor: pointer;\n",
              "        display: none;\n",
              "        fill: #1967D2;\n",
              "        height: 32px;\n",
              "        padding: 0 0 0 0;\n",
              "        width: 32px;\n",
              "      }\n",
              "\n",
              "      .colab-df-generate:hover {\n",
              "        background-color: #E2EBFA;\n",
              "        box-shadow: 0px 1px 2px rgba(60, 64, 67, 0.3), 0px 1px 3px 1px rgba(60, 64, 67, 0.15);\n",
              "        fill: #174EA6;\n",
              "      }\n",
              "\n",
              "      [theme=dark] .colab-df-generate {\n",
              "        background-color: #3B4455;\n",
              "        fill: #D2E3FC;\n",
              "      }\n",
              "\n",
              "      [theme=dark] .colab-df-generate:hover {\n",
              "        background-color: #434B5C;\n",
              "        box-shadow: 0px 1px 3px 1px rgba(0, 0, 0, 0.15);\n",
              "        filter: drop-shadow(0px 1px 2px rgba(0, 0, 0, 0.3));\n",
              "        fill: #FFFFFF;\n",
              "      }\n",
              "    </style>\n",
              "    <button class=\"colab-df-generate\" onclick=\"generateWithVariable('topic_scores')\"\n",
              "            title=\"Generate code using this dataframe.\"\n",
              "            style=\"display:none;\">\n",
              "\n",
              "  <svg xmlns=\"http://www.w3.org/2000/svg\" height=\"24px\"viewBox=\"0 0 24 24\"\n",
              "       width=\"24px\">\n",
              "    <path d=\"M7,19H8.4L18.45,9,17,7.55,7,17.6ZM5,21V16.75L18.45,3.32a2,2,0,0,1,2.83,0l1.4,1.43a1.91,1.91,0,0,1,.58,1.4,1.91,1.91,0,0,1-.58,1.4L9.25,21ZM18.45,9,17,7.55Zm-12,3A5.31,5.31,0,0,0,4.9,8.1,5.31,5.31,0,0,0,1,6.5,5.31,5.31,0,0,0,4.9,4.9,5.31,5.31,0,0,0,6.5,1,5.31,5.31,0,0,0,8.1,4.9,5.31,5.31,0,0,0,12,6.5,5.46,5.46,0,0,0,6.5,12Z\"/>\n",
              "  </svg>\n",
              "    </button>\n",
              "    <script>\n",
              "      (() => {\n",
              "      const buttonEl =\n",
              "        document.querySelector('#id_580c539b-3085-44eb-a1e3-b618f854d967 button.colab-df-generate');\n",
              "      buttonEl.style.display =\n",
              "        google.colab.kernel.accessAllowed ? 'block' : 'none';\n",
              "\n",
              "      buttonEl.onclick = () => {\n",
              "        google.colab.notebook.generateWithVariable('topic_scores');\n",
              "      }\n",
              "      })();\n",
              "    </script>\n",
              "  </div>\n",
              "\n",
              "    </div>\n",
              "  </div>\n"
            ],
            "application/vnd.google.colaboratory.intrinsic+json": {
              "type": "dataframe",
              "variable_name": "topic_scores",
              "summary": "{\n  \"name\": \"topic_scores\",\n  \"rows\": 119,\n  \"fields\": [\n    {\n      \"column\": \"Topic_0\",\n      \"properties\": {\n        \"dtype\": \"float32\",\n        \"num_unique_values\": 119,\n        \"samples\": [\n          0.5797888040542603,\n          0.45071515440940857,\n          0.0068628424778580666\n        ],\n        \"semantic_type\": \"\",\n        \"description\": \"\"\n      }\n    },\n    {\n      \"column\": \"Topic_1\",\n      \"properties\": {\n        \"dtype\": \"float32\",\n        \"num_unique_values\": 119,\n        \"samples\": [\n          0.35435041785240173,\n          0.153969407081604,\n          0.7921958565711975\n        ],\n        \"semantic_type\": \"\",\n        \"description\": \"\"\n      }\n    },\n    {\n      \"column\": \"Topic_2\",\n      \"properties\": {\n        \"dtype\": \"float32\",\n        \"num_unique_values\": 119,\n        \"samples\": [\n          0.0658608078956604,\n          0.39531540870666504,\n          0.20094133913516998\n        ],\n        \"semantic_type\": \"\",\n        \"description\": \"\"\n      }\n    }\n  ]\n}"
            }
          },
          "metadata": {},
          "execution_count": 25
        }
      ]
    },
    {
      "cell_type": "code",
      "source": [
        "# Make sure they are the same lengths\n",
        "print(len(topic_scores))  # 119 x 3\n",
        "print(len(test))  # 119 x 9\n",
        "\n",
        "final_test_topic_pred= pd.concat([test, topic_scores], axis=1)\n",
        "\n"
      ],
      "metadata": {
        "colab": {
          "base_uri": "https://localhost:8080/"
        },
        "id": "dLJBZY0z7mdB",
        "outputId": "7cffae69-a71a-4dd9-cef9-22d573bbfc39"
      },
      "execution_count": null,
      "outputs": [
        {
          "output_type": "stream",
          "name": "stdout",
          "text": [
            "119\n",
            "119\n"
          ]
        }
      ]
    },
    {
      "cell_type": "code",
      "source": [
        "final_test_topic_pred"
      ],
      "metadata": {
        "colab": {
          "base_uri": "https://localhost:8080/",
          "height": 1000
        },
        "id": "RXsF9RE47E0t",
        "outputId": "6a062931-7542-4816-d1c4-95c9e483f8cc"
      },
      "execution_count": null,
      "outputs": [
        {
          "output_type": "execute_result",
          "data": {
            "text/plain": [
              "      id                                               text  bt_readability  \\\n",
              "505  513  monotheism has been defined as the belief in t...        0.048035   \n",
              "586  596  historiography is the study of the methodology...        0.181519   \n",
              "195  198  a boycott is a protest where the protesters do...        0.080899   \n",
              "165  167  air navigation is navigation while flying. it ...        0.088027   \n",
              "453  461  diarchy (or dyarchy; from the greek î´î¹- / î´...        0.235969   \n",
              "..   ...                                                ...             ...   \n",
              "473  481  the miranda warning, which can also be referre...        0.084432   \n",
              "234  237  the rosetta stone is a stone with writing carv...        0.024083   \n",
              "300  305  mercury is the smallest and innermost planet i...        0.178654   \n",
              "212  215  urbanization (or urbanisation) is a term from ...        0.060955   \n",
              "238  241  the korean war was a war fought in korea betwe...        0.067516   \n",
              "\n",
              "                                               Source            Topic  \\\n",
              "505          https://en.wikipedia.org/wiki/Monotheism       monotheism   \n",
              "586      https://en.wikipedia.org/wiki/Historiography   Historiography   \n",
              "195         https://simple.wikipedia.org/wiki/Boycott          boycott   \n",
              "165  https://simple.wikipedia.org/wiki/Air_navigation   air navigation   \n",
              "453             https://en.wikipedia.org/wiki/Diarchy          diarchy   \n",
              "..                                                ...              ...   \n",
              "473     https://en.wikipedia.org/wiki/Miranda_warning  miranda warning   \n",
              "234   https://simple.wikipedia.org/wiki/Rosetta_Stone    rosetta stone   \n",
              "300    https://en.wikipedia.org/wiki/Mercury_(planet)          mercury   \n",
              "212    https://simple.wikipedia.org/wiki/Urbanization     urbanization   \n",
              "238      https://simple.wikipedia.org/wiki/Korean_War       korean war   \n",
              "\n",
              "    Text type      Domain  lda_bow_preds   Topic_0   Topic_1   Topic_2  \n",
              "505   Regular     History              0  0.619879  0.367129  0.012992  \n",
              "586   Regular     History              1  0.244226  0.741984  0.013790  \n",
              "195    Simple     History              1  0.149250  0.713164  0.137586  \n",
              "165    Simple  Technology              0  0.846114  0.080617  0.073269  \n",
              "453   Regular     History              1  0.006863  0.792196  0.200941  \n",
              "..        ...         ...            ...       ...       ...       ...  \n",
              "473   Regular     History              1  0.009790  0.565927  0.424282  \n",
              "234    Simple     History              2  0.127957  0.357510  0.514533  \n",
              "300   Regular     Science              0  0.849160  0.128878  0.021962  \n",
              "212    Simple     History              2  0.174557  0.400869  0.424574  \n",
              "238    Simple     History              1  0.004568  0.990175  0.005256  \n",
              "\n",
              "[119 rows x 11 columns]"
            ],
            "text/html": [
              "\n",
              "  <div id=\"df-bc86495f-f1cc-4b53-881c-8b4b09e4db92\" class=\"colab-df-container\">\n",
              "    <div>\n",
              "<style scoped>\n",
              "    .dataframe tbody tr th:only-of-type {\n",
              "        vertical-align: middle;\n",
              "    }\n",
              "\n",
              "    .dataframe tbody tr th {\n",
              "        vertical-align: top;\n",
              "    }\n",
              "\n",
              "    .dataframe thead th {\n",
              "        text-align: right;\n",
              "    }\n",
              "</style>\n",
              "<table border=\"1\" class=\"dataframe\">\n",
              "  <thead>\n",
              "    <tr style=\"text-align: right;\">\n",
              "      <th></th>\n",
              "      <th>id</th>\n",
              "      <th>text</th>\n",
              "      <th>bt_readability</th>\n",
              "      <th>Source</th>\n",
              "      <th>Topic</th>\n",
              "      <th>Text type</th>\n",
              "      <th>Domain</th>\n",
              "      <th>lda_bow_preds</th>\n",
              "      <th>Topic_0</th>\n",
              "      <th>Topic_1</th>\n",
              "      <th>Topic_2</th>\n",
              "    </tr>\n",
              "  </thead>\n",
              "  <tbody>\n",
              "    <tr>\n",
              "      <th>505</th>\n",
              "      <td>513</td>\n",
              "      <td>monotheism has been defined as the belief in t...</td>\n",
              "      <td>0.048035</td>\n",
              "      <td>https://en.wikipedia.org/wiki/Monotheism</td>\n",
              "      <td>monotheism</td>\n",
              "      <td>Regular</td>\n",
              "      <td>History</td>\n",
              "      <td>0</td>\n",
              "      <td>0.619879</td>\n",
              "      <td>0.367129</td>\n",
              "      <td>0.012992</td>\n",
              "    </tr>\n",
              "    <tr>\n",
              "      <th>586</th>\n",
              "      <td>596</td>\n",
              "      <td>historiography is the study of the methodology...</td>\n",
              "      <td>0.181519</td>\n",
              "      <td>https://en.wikipedia.org/wiki/Historiography</td>\n",
              "      <td>Historiography</td>\n",
              "      <td>Regular</td>\n",
              "      <td>History</td>\n",
              "      <td>1</td>\n",
              "      <td>0.244226</td>\n",
              "      <td>0.741984</td>\n",
              "      <td>0.013790</td>\n",
              "    </tr>\n",
              "    <tr>\n",
              "      <th>195</th>\n",
              "      <td>198</td>\n",
              "      <td>a boycott is a protest where the protesters do...</td>\n",
              "      <td>0.080899</td>\n",
              "      <td>https://simple.wikipedia.org/wiki/Boycott</td>\n",
              "      <td>boycott</td>\n",
              "      <td>Simple</td>\n",
              "      <td>History</td>\n",
              "      <td>1</td>\n",
              "      <td>0.149250</td>\n",
              "      <td>0.713164</td>\n",
              "      <td>0.137586</td>\n",
              "    </tr>\n",
              "    <tr>\n",
              "      <th>165</th>\n",
              "      <td>167</td>\n",
              "      <td>air navigation is navigation while flying. it ...</td>\n",
              "      <td>0.088027</td>\n",
              "      <td>https://simple.wikipedia.org/wiki/Air_navigation</td>\n",
              "      <td>air navigation</td>\n",
              "      <td>Simple</td>\n",
              "      <td>Technology</td>\n",
              "      <td>0</td>\n",
              "      <td>0.846114</td>\n",
              "      <td>0.080617</td>\n",
              "      <td>0.073269</td>\n",
              "    </tr>\n",
              "    <tr>\n",
              "      <th>453</th>\n",
              "      <td>461</td>\n",
              "      <td>diarchy (or dyarchy; from the greek î´î¹- / î´...</td>\n",
              "      <td>0.235969</td>\n",
              "      <td>https://en.wikipedia.org/wiki/Diarchy</td>\n",
              "      <td>diarchy</td>\n",
              "      <td>Regular</td>\n",
              "      <td>History</td>\n",
              "      <td>1</td>\n",
              "      <td>0.006863</td>\n",
              "      <td>0.792196</td>\n",
              "      <td>0.200941</td>\n",
              "    </tr>\n",
              "    <tr>\n",
              "      <th>...</th>\n",
              "      <td>...</td>\n",
              "      <td>...</td>\n",
              "      <td>...</td>\n",
              "      <td>...</td>\n",
              "      <td>...</td>\n",
              "      <td>...</td>\n",
              "      <td>...</td>\n",
              "      <td>...</td>\n",
              "      <td>...</td>\n",
              "      <td>...</td>\n",
              "      <td>...</td>\n",
              "    </tr>\n",
              "    <tr>\n",
              "      <th>473</th>\n",
              "      <td>481</td>\n",
              "      <td>the miranda warning, which can also be referre...</td>\n",
              "      <td>0.084432</td>\n",
              "      <td>https://en.wikipedia.org/wiki/Miranda_warning</td>\n",
              "      <td>miranda warning</td>\n",
              "      <td>Regular</td>\n",
              "      <td>History</td>\n",
              "      <td>1</td>\n",
              "      <td>0.009790</td>\n",
              "      <td>0.565927</td>\n",
              "      <td>0.424282</td>\n",
              "    </tr>\n",
              "    <tr>\n",
              "      <th>234</th>\n",
              "      <td>237</td>\n",
              "      <td>the rosetta stone is a stone with writing carv...</td>\n",
              "      <td>0.024083</td>\n",
              "      <td>https://simple.wikipedia.org/wiki/Rosetta_Stone</td>\n",
              "      <td>rosetta stone</td>\n",
              "      <td>Simple</td>\n",
              "      <td>History</td>\n",
              "      <td>2</td>\n",
              "      <td>0.127957</td>\n",
              "      <td>0.357510</td>\n",
              "      <td>0.514533</td>\n",
              "    </tr>\n",
              "    <tr>\n",
              "      <th>300</th>\n",
              "      <td>305</td>\n",
              "      <td>mercury is the smallest and innermost planet i...</td>\n",
              "      <td>0.178654</td>\n",
              "      <td>https://en.wikipedia.org/wiki/Mercury_(planet)</td>\n",
              "      <td>mercury</td>\n",
              "      <td>Regular</td>\n",
              "      <td>Science</td>\n",
              "      <td>0</td>\n",
              "      <td>0.849160</td>\n",
              "      <td>0.128878</td>\n",
              "      <td>0.021962</td>\n",
              "    </tr>\n",
              "    <tr>\n",
              "      <th>212</th>\n",
              "      <td>215</td>\n",
              "      <td>urbanization (or urbanisation) is a term from ...</td>\n",
              "      <td>0.060955</td>\n",
              "      <td>https://simple.wikipedia.org/wiki/Urbanization</td>\n",
              "      <td>urbanization</td>\n",
              "      <td>Simple</td>\n",
              "      <td>History</td>\n",
              "      <td>2</td>\n",
              "      <td>0.174557</td>\n",
              "      <td>0.400869</td>\n",
              "      <td>0.424574</td>\n",
              "    </tr>\n",
              "    <tr>\n",
              "      <th>238</th>\n",
              "      <td>241</td>\n",
              "      <td>the korean war was a war fought in korea betwe...</td>\n",
              "      <td>0.067516</td>\n",
              "      <td>https://simple.wikipedia.org/wiki/Korean_War</td>\n",
              "      <td>korean war</td>\n",
              "      <td>Simple</td>\n",
              "      <td>History</td>\n",
              "      <td>1</td>\n",
              "      <td>0.004568</td>\n",
              "      <td>0.990175</td>\n",
              "      <td>0.005256</td>\n",
              "    </tr>\n",
              "  </tbody>\n",
              "</table>\n",
              "<p>119 rows × 11 columns</p>\n",
              "</div>\n",
              "    <div class=\"colab-df-buttons\">\n",
              "\n",
              "  <div class=\"colab-df-container\">\n",
              "    <button class=\"colab-df-convert\" onclick=\"convertToInteractive('df-bc86495f-f1cc-4b53-881c-8b4b09e4db92')\"\n",
              "            title=\"Convert this dataframe to an interactive table.\"\n",
              "            style=\"display:none;\">\n",
              "\n",
              "  <svg xmlns=\"http://www.w3.org/2000/svg\" height=\"24px\" viewBox=\"0 -960 960 960\">\n",
              "    <path d=\"M120-120v-720h720v720H120Zm60-500h600v-160H180v160Zm220 220h160v-160H400v160Zm0 220h160v-160H400v160ZM180-400h160v-160H180v160Zm440 0h160v-160H620v160ZM180-180h160v-160H180v160Zm440 0h160v-160H620v160Z\"/>\n",
              "  </svg>\n",
              "    </button>\n",
              "\n",
              "  <style>\n",
              "    .colab-df-container {\n",
              "      display:flex;\n",
              "      gap: 12px;\n",
              "    }\n",
              "\n",
              "    .colab-df-convert {\n",
              "      background-color: #E8F0FE;\n",
              "      border: none;\n",
              "      border-radius: 50%;\n",
              "      cursor: pointer;\n",
              "      display: none;\n",
              "      fill: #1967D2;\n",
              "      height: 32px;\n",
              "      padding: 0 0 0 0;\n",
              "      width: 32px;\n",
              "    }\n",
              "\n",
              "    .colab-df-convert:hover {\n",
              "      background-color: #E2EBFA;\n",
              "      box-shadow: 0px 1px 2px rgba(60, 64, 67, 0.3), 0px 1px 3px 1px rgba(60, 64, 67, 0.15);\n",
              "      fill: #174EA6;\n",
              "    }\n",
              "\n",
              "    .colab-df-buttons div {\n",
              "      margin-bottom: 4px;\n",
              "    }\n",
              "\n",
              "    [theme=dark] .colab-df-convert {\n",
              "      background-color: #3B4455;\n",
              "      fill: #D2E3FC;\n",
              "    }\n",
              "\n",
              "    [theme=dark] .colab-df-convert:hover {\n",
              "      background-color: #434B5C;\n",
              "      box-shadow: 0px 1px 3px 1px rgba(0, 0, 0, 0.15);\n",
              "      filter: drop-shadow(0px 1px 2px rgba(0, 0, 0, 0.3));\n",
              "      fill: #FFFFFF;\n",
              "    }\n",
              "  </style>\n",
              "\n",
              "    <script>\n",
              "      const buttonEl =\n",
              "        document.querySelector('#df-bc86495f-f1cc-4b53-881c-8b4b09e4db92 button.colab-df-convert');\n",
              "      buttonEl.style.display =\n",
              "        google.colab.kernel.accessAllowed ? 'block' : 'none';\n",
              "\n",
              "      async function convertToInteractive(key) {\n",
              "        const element = document.querySelector('#df-bc86495f-f1cc-4b53-881c-8b4b09e4db92');\n",
              "        const dataTable =\n",
              "          await google.colab.kernel.invokeFunction('convertToInteractive',\n",
              "                                                    [key], {});\n",
              "        if (!dataTable) return;\n",
              "\n",
              "        const docLinkHtml = 'Like what you see? Visit the ' +\n",
              "          '<a target=\"_blank\" href=https://colab.research.google.com/notebooks/data_table.ipynb>data table notebook</a>'\n",
              "          + ' to learn more about interactive tables.';\n",
              "        element.innerHTML = '';\n",
              "        dataTable['output_type'] = 'display_data';\n",
              "        await google.colab.output.renderOutput(dataTable, element);\n",
              "        const docLink = document.createElement('div');\n",
              "        docLink.innerHTML = docLinkHtml;\n",
              "        element.appendChild(docLink);\n",
              "      }\n",
              "    </script>\n",
              "  </div>\n",
              "\n",
              "\n",
              "<div id=\"df-f7124494-edef-45ce-b8a9-ffdf5dff14d2\">\n",
              "  <button class=\"colab-df-quickchart\" onclick=\"quickchart('df-f7124494-edef-45ce-b8a9-ffdf5dff14d2')\"\n",
              "            title=\"Suggest charts\"\n",
              "            style=\"display:none;\">\n",
              "\n",
              "<svg xmlns=\"http://www.w3.org/2000/svg\" height=\"24px\"viewBox=\"0 0 24 24\"\n",
              "     width=\"24px\">\n",
              "    <g>\n",
              "        <path d=\"M19 3H5c-1.1 0-2 .9-2 2v14c0 1.1.9 2 2 2h14c1.1 0 2-.9 2-2V5c0-1.1-.9-2-2-2zM9 17H7v-7h2v7zm4 0h-2V7h2v10zm4 0h-2v-4h2v4z\"/>\n",
              "    </g>\n",
              "</svg>\n",
              "  </button>\n",
              "\n",
              "<style>\n",
              "  .colab-df-quickchart {\n",
              "      --bg-color: #E8F0FE;\n",
              "      --fill-color: #1967D2;\n",
              "      --hover-bg-color: #E2EBFA;\n",
              "      --hover-fill-color: #174EA6;\n",
              "      --disabled-fill-color: #AAA;\n",
              "      --disabled-bg-color: #DDD;\n",
              "  }\n",
              "\n",
              "  [theme=dark] .colab-df-quickchart {\n",
              "      --bg-color: #3B4455;\n",
              "      --fill-color: #D2E3FC;\n",
              "      --hover-bg-color: #434B5C;\n",
              "      --hover-fill-color: #FFFFFF;\n",
              "      --disabled-bg-color: #3B4455;\n",
              "      --disabled-fill-color: #666;\n",
              "  }\n",
              "\n",
              "  .colab-df-quickchart {\n",
              "    background-color: var(--bg-color);\n",
              "    border: none;\n",
              "    border-radius: 50%;\n",
              "    cursor: pointer;\n",
              "    display: none;\n",
              "    fill: var(--fill-color);\n",
              "    height: 32px;\n",
              "    padding: 0;\n",
              "    width: 32px;\n",
              "  }\n",
              "\n",
              "  .colab-df-quickchart:hover {\n",
              "    background-color: var(--hover-bg-color);\n",
              "    box-shadow: 0 1px 2px rgba(60, 64, 67, 0.3), 0 1px 3px 1px rgba(60, 64, 67, 0.15);\n",
              "    fill: var(--button-hover-fill-color);\n",
              "  }\n",
              "\n",
              "  .colab-df-quickchart-complete:disabled,\n",
              "  .colab-df-quickchart-complete:disabled:hover {\n",
              "    background-color: var(--disabled-bg-color);\n",
              "    fill: var(--disabled-fill-color);\n",
              "    box-shadow: none;\n",
              "  }\n",
              "\n",
              "  .colab-df-spinner {\n",
              "    border: 2px solid var(--fill-color);\n",
              "    border-color: transparent;\n",
              "    border-bottom-color: var(--fill-color);\n",
              "    animation:\n",
              "      spin 1s steps(1) infinite;\n",
              "  }\n",
              "\n",
              "  @keyframes spin {\n",
              "    0% {\n",
              "      border-color: transparent;\n",
              "      border-bottom-color: var(--fill-color);\n",
              "      border-left-color: var(--fill-color);\n",
              "    }\n",
              "    20% {\n",
              "      border-color: transparent;\n",
              "      border-left-color: var(--fill-color);\n",
              "      border-top-color: var(--fill-color);\n",
              "    }\n",
              "    30% {\n",
              "      border-color: transparent;\n",
              "      border-left-color: var(--fill-color);\n",
              "      border-top-color: var(--fill-color);\n",
              "      border-right-color: var(--fill-color);\n",
              "    }\n",
              "    40% {\n",
              "      border-color: transparent;\n",
              "      border-right-color: var(--fill-color);\n",
              "      border-top-color: var(--fill-color);\n",
              "    }\n",
              "    60% {\n",
              "      border-color: transparent;\n",
              "      border-right-color: var(--fill-color);\n",
              "    }\n",
              "    80% {\n",
              "      border-color: transparent;\n",
              "      border-right-color: var(--fill-color);\n",
              "      border-bottom-color: var(--fill-color);\n",
              "    }\n",
              "    90% {\n",
              "      border-color: transparent;\n",
              "      border-bottom-color: var(--fill-color);\n",
              "    }\n",
              "  }\n",
              "</style>\n",
              "\n",
              "  <script>\n",
              "    async function quickchart(key) {\n",
              "      const quickchartButtonEl =\n",
              "        document.querySelector('#' + key + ' button');\n",
              "      quickchartButtonEl.disabled = true;  // To prevent multiple clicks.\n",
              "      quickchartButtonEl.classList.add('colab-df-spinner');\n",
              "      try {\n",
              "        const charts = await google.colab.kernel.invokeFunction(\n",
              "            'suggestCharts', [key], {});\n",
              "      } catch (error) {\n",
              "        console.error('Error during call to suggestCharts:', error);\n",
              "      }\n",
              "      quickchartButtonEl.classList.remove('colab-df-spinner');\n",
              "      quickchartButtonEl.classList.add('colab-df-quickchart-complete');\n",
              "    }\n",
              "    (() => {\n",
              "      let quickchartButtonEl =\n",
              "        document.querySelector('#df-f7124494-edef-45ce-b8a9-ffdf5dff14d2 button');\n",
              "      quickchartButtonEl.style.display =\n",
              "        google.colab.kernel.accessAllowed ? 'block' : 'none';\n",
              "    })();\n",
              "  </script>\n",
              "</div>\n",
              "\n",
              "  <div id=\"id_35ea4e4e-96a5-46f6-8c2b-1e0fb6a5f601\">\n",
              "    <style>\n",
              "      .colab-df-generate {\n",
              "        background-color: #E8F0FE;\n",
              "        border: none;\n",
              "        border-radius: 50%;\n",
              "        cursor: pointer;\n",
              "        display: none;\n",
              "        fill: #1967D2;\n",
              "        height: 32px;\n",
              "        padding: 0 0 0 0;\n",
              "        width: 32px;\n",
              "      }\n",
              "\n",
              "      .colab-df-generate:hover {\n",
              "        background-color: #E2EBFA;\n",
              "        box-shadow: 0px 1px 2px rgba(60, 64, 67, 0.3), 0px 1px 3px 1px rgba(60, 64, 67, 0.15);\n",
              "        fill: #174EA6;\n",
              "      }\n",
              "\n",
              "      [theme=dark] .colab-df-generate {\n",
              "        background-color: #3B4455;\n",
              "        fill: #D2E3FC;\n",
              "      }\n",
              "\n",
              "      [theme=dark] .colab-df-generate:hover {\n",
              "        background-color: #434B5C;\n",
              "        box-shadow: 0px 1px 3px 1px rgba(0, 0, 0, 0.15);\n",
              "        filter: drop-shadow(0px 1px 2px rgba(0, 0, 0, 0.3));\n",
              "        fill: #FFFFFF;\n",
              "      }\n",
              "    </style>\n",
              "    <button class=\"colab-df-generate\" onclick=\"generateWithVariable('final_test_topic_pred')\"\n",
              "            title=\"Generate code using this dataframe.\"\n",
              "            style=\"display:none;\">\n",
              "\n",
              "  <svg xmlns=\"http://www.w3.org/2000/svg\" height=\"24px\"viewBox=\"0 0 24 24\"\n",
              "       width=\"24px\">\n",
              "    <path d=\"M7,19H8.4L18.45,9,17,7.55,7,17.6ZM5,21V16.75L18.45,3.32a2,2,0,0,1,2.83,0l1.4,1.43a1.91,1.91,0,0,1,.58,1.4,1.91,1.91,0,0,1-.58,1.4L9.25,21ZM18.45,9,17,7.55Zm-12,3A5.31,5.31,0,0,0,4.9,8.1,5.31,5.31,0,0,0,1,6.5,5.31,5.31,0,0,0,4.9,4.9,5.31,5.31,0,0,0,6.5,1,5.31,5.31,0,0,0,8.1,4.9,5.31,5.31,0,0,0,12,6.5,5.46,5.46,0,0,0,6.5,12Z\"/>\n",
              "  </svg>\n",
              "    </button>\n",
              "    <script>\n",
              "      (() => {\n",
              "      const buttonEl =\n",
              "        document.querySelector('#id_35ea4e4e-96a5-46f6-8c2b-1e0fb6a5f601 button.colab-df-generate');\n",
              "      buttonEl.style.display =\n",
              "        google.colab.kernel.accessAllowed ? 'block' : 'none';\n",
              "\n",
              "      buttonEl.onclick = () => {\n",
              "        google.colab.notebook.generateWithVariable('final_test_topic_pred');\n",
              "      }\n",
              "      })();\n",
              "    </script>\n",
              "  </div>\n",
              "\n",
              "    </div>\n",
              "  </div>\n"
            ],
            "application/vnd.google.colaboratory.intrinsic+json": {
              "type": "dataframe",
              "variable_name": "final_test_topic_pred",
              "summary": "{\n  \"name\": \"final_test_topic_pred\",\n  \"rows\": 119,\n  \"fields\": [\n    {\n      \"column\": \"id\",\n      \"properties\": {\n        \"dtype\": \"number\",\n        \"std\": 178,\n        \"min\": 3,\n        \"max\": 597,\n        \"num_unique_values\": 119,\n        \"samples\": [\n          571,\n          80,\n          461\n        ],\n        \"semantic_type\": \"\",\n        \"description\": \"\"\n      }\n    },\n    {\n      \"column\": \"text\",\n      \"properties\": {\n        \"dtype\": \"string\",\n        \"num_unique_values\": 119,\n        \"samples\": [\n          \"homo sapiens (latin: \\\"wise man\\\") is the binomial nomenclature (also known as the scientific name) for the human species.\\r\\nhomo is the human genus, which also includes neanderthals and many other extinct species of hominid; h. sapiens is the only surviving species of the genus homo. modern humans are sometimes called \\\"anatomically modern humans\\\". homo sapiens considers itself the most influential species on the planet, but many species of life, mostly plants and protists, have had a much greater effect on the outside of earth and its air.\\r\\nthe recent african origin of modern humans is the mainstream model describing the origin and dispersal of anatomically modern humans. the hypothesis that humans have a single origin was published in charles darwin's the descent of man (1871). the concept is supported by a study of present-day mitochondrial dna, and with evidence based on physical anthropology of fossil humans.\",\n          \"adaptation is the evolutionary process where an organism becomes better suited to its habitat. this process takes place over many generations. it is one of the basic phenomena of biology.\\r\\nwhen people speak about adaptation, they often mean a 'feature' (a trait) which helps an animal or plant survive. an example is the adaptation of horses' teeth to grinding grass. grass is their usual food; it wears the teeth down, but horses' teeth continue to grow during life. horses also have adapted to run fast, which helps them to escape their predators, such as lions. these features are the product of the process of adaptation.\\r\\nthe illustration of bird beaks shows an obvious sign of their different ways of life. however, eating a different food also means having a different digestive system, gut, claws, wings and above all, different inherited behaviour. for the major adaptations, what changes is not a single trait, but a whole group of features.\",\n          \"diarchy (or dyarchy; from the greek \\u00ee\\u00b4\\u00ee\\u00b9- / \\u00ee\\u00b4\\u00ef\\u008d\\u00ee\\u00bf meaning \\\"two\\\" and \\u00e1\\u00bc\\u0084\\u00ef\\u0081\\u00ef\\u0087\\u00ef\\u0089 meaning \\\"i rule\\\") is a form of government in which two individuals (\\\"diarchs\\\") are joint heads of state. most diarchs hold their position for life, passing the position to their children or other family members.\\r\\ndiarchy is one of the oldest forms of government: examples include ancient sparta, rome, carthage as well germanic and dacian tribes. several ancient polynesian societies also exhibited a diarchic political structure. ranks in the inca empire were structured in moieties, with two occupants of each rank, but with different prestige, one hanan (upper) and one hurin (lower). in modern usage, diarchy means a system of dual rule, whether this be of a government or of an organization. such 'diarchies' are not hereditary.\\r\\nmodern examples of diarchies are the principality of andorra, whose heads of state are the president of france and the bishop of urgell; the republic of san marino, led by two collegial captains regent; and the kingdom of swaziland, where the joint heads of state are the king and his mother.\"\n        ],\n        \"semantic_type\": \"\",\n        \"description\": \"\"\n      }\n    },\n    {\n      \"column\": \"bt_readability\",\n      \"properties\": {\n        \"dtype\": \"number\",\n        \"std\": 0.11166521342040212,\n        \"min\": 0.00888084,\n        \"max\": 0.58155395,\n        \"num_unique_values\": 119,\n        \"samples\": [\n          0.02062408,\n          0.01952554,\n          0.23596915\n        ],\n        \"semantic_type\": \"\",\n        \"description\": \"\"\n      }\n    },\n    {\n      \"column\": \"Source\",\n      \"properties\": {\n        \"dtype\": \"string\",\n        \"num_unique_values\": 117,\n        \"samples\": [\n          \"https://en.wikipedia.org/wiki/Vacuum\",\n          \"https://en.wikipedia.org/wiki/Diarchy\",\n          \"https://simple.wikipedia.org/wiki/Reptile\"\n        ],\n        \"semantic_type\": \"\",\n        \"description\": \"\"\n      }\n    },\n    {\n      \"column\": \"Topic\",\n      \"properties\": {\n        \"dtype\": \"string\",\n        \"num_unique_values\": 119,\n        \"samples\": [\n          \"homo sapiens\",\n          \"adaptation\",\n          \"diarchy\"\n        ],\n        \"semantic_type\": \"\",\n        \"description\": \"\"\n      }\n    },\n    {\n      \"column\": \"Text type\",\n      \"properties\": {\n        \"dtype\": \"category\",\n        \"num_unique_values\": 2,\n        \"samples\": [\n          \"Simple\",\n          \"Regular\"\n        ],\n        \"semantic_type\": \"\",\n        \"description\": \"\"\n      }\n    },\n    {\n      \"column\": \"Domain\",\n      \"properties\": {\n        \"dtype\": \"category\",\n        \"num_unique_values\": 3,\n        \"samples\": [\n          \"History\",\n          \"Technology\"\n        ],\n        \"semantic_type\": \"\",\n        \"description\": \"\"\n      }\n    },\n    {\n      \"column\": \"lda_bow_preds\",\n      \"properties\": {\n        \"dtype\": \"number\",\n        \"std\": 0,\n        \"min\": 0,\n        \"max\": 2,\n        \"num_unique_values\": 3,\n        \"samples\": [\n          0,\n          1\n        ],\n        \"semantic_type\": \"\",\n        \"description\": \"\"\n      }\n    },\n    {\n      \"column\": \"Topic_0\",\n      \"properties\": {\n        \"dtype\": \"float32\",\n        \"num_unique_values\": 119,\n        \"samples\": [\n          0.5797888040542603,\n          0.45071515440940857\n        ],\n        \"semantic_type\": \"\",\n        \"description\": \"\"\n      }\n    },\n    {\n      \"column\": \"Topic_1\",\n      \"properties\": {\n        \"dtype\": \"float32\",\n        \"num_unique_values\": 119,\n        \"samples\": [\n          0.35435041785240173,\n          0.153969407081604\n        ],\n        \"semantic_type\": \"\",\n        \"description\": \"\"\n      }\n    },\n    {\n      \"column\": \"Topic_2\",\n      \"properties\": {\n        \"dtype\": \"float32\",\n        \"num_unique_values\": 119,\n        \"samples\": [\n          0.0658608078956604,\n          0.39531540870666504\n        ],\n        \"semantic_type\": \"\",\n        \"description\": \"\"\n      }\n    }\n  ]\n}"
            }
          },
          "metadata": {},
          "execution_count": 27
        }
      ]
    },
    {
      "cell_type": "markdown",
      "source": [
        "### Assign values to domain to match predictions\n",
        "\n",
        "Give domain names numeric values\n",
        "\n",
        "Then we can calculate\n",
        "- accuracy\n",
        "      - proportion of correctly classified instances out of the total number of instances\n",
        "- recall\n",
        "      - proportion of correctly predicted positive instances out of all actual positive instances\n",
        "- precision\n",
        "      - proportion of correctly predicted positive instances out of all instances predicted as positive\n"
      ],
      "metadata": {
        "id": "hI0D0OaYibsI"
      }
    },
    {
      "cell_type": "code",
      "source": [
        "test['domain_Numeric'] = test['Domain'].map({'History': 1, 'Science': 0, 'Technology': 2})\n",
        "test.head()\n",
        "print(test.dtypes)"
      ],
      "metadata": {
        "colab": {
          "base_uri": "https://localhost:8080/"
        },
        "id": "aptYAUEBi8-r",
        "outputId": "88711610-3491-4072-885e-c70bd1c931ba"
      },
      "execution_count": null,
      "outputs": [
        {
          "output_type": "stream",
          "name": "stdout",
          "text": [
            "id                  int64\n",
            "text               object\n",
            "bt_readability    float64\n",
            "Source             object\n",
            "Topic              object\n",
            "Text type          object\n",
            "Domain             object\n",
            "lda_bow_preds       int64\n",
            "domain_Numeric      int64\n",
            "dtype: object\n"
          ]
        }
      ]
    },
    {
      "cell_type": "markdown",
      "source": [
        "## Classification Metrics Average Strategy\n",
        "\n",
        "In scikit-learn, when calculating metrics for multi-class or multi-label classification, the average parameter in functions like f1_score and precision_score determines how scores are averaged across classes: `micro` considers each element as a label, `macro` calculates the unweighted mean of each class's score, and `weighted` calculates the mean weighted by the support of each class.\n",
        "\n",
        "If the class labels are perfectly balanced, then `micro` and `macro` are the same. If there is a class which occurs less frequently but is equally important as the rest, then macro-average is the preferred metric."
      ],
      "metadata": {
        "id": "mtnOTvBMURh1"
      }
    },
    {
      "cell_type": "code",
      "source": [
        "# Calculate accuracy\n",
        "accuracy = accuracy_score(test['lda_bow_preds'], test['domain_Numeric'])\n",
        "\n",
        "# Calculate precision (macro-averaged)\n",
        "precision = precision_score(test['lda_bow_preds'], test['domain_Numeric'], average='macro')\n",
        "\n",
        "# Calculate recall (macro-averaged)\n",
        "recall = recall_score(test['lda_bow_preds'], test['domain_Numeric'], average='macro')\n",
        "\n",
        "print(f\"Accuracy: {accuracy}\")\n",
        "print(f\"Precision: {precision}\")\n",
        "print(f\"Recall: {recall}\")"
      ],
      "metadata": {
        "colab": {
          "base_uri": "https://localhost:8080/"
        },
        "id": "_co-07pTjqcL",
        "outputId": "70e303f7-b959-4d7b-8359-15766a3d3892"
      },
      "execution_count": null,
      "outputs": [
        {
          "output_type": "stream",
          "name": "stdout",
          "text": [
            "Accuracy: 0.6974789915966386\n",
            "Precision: 0.6774151774151774\n",
            "Recall: 0.7643264143264145\n"
          ]
        }
      ]
    },
    {
      "cell_type": "markdown",
      "source": [
        "That's not bad..."
      ],
      "metadata": {
        "id": "y05OrGNllI6U"
      }
    },
    {
      "cell_type": "markdown",
      "source": [
        "### Adjusted Rand Index\n",
        "- The Adjusted Rand Index (ARI) is a measure used to evaluate the similarity between two different clusterings or groupings of the same data, often used in machine learning to assess clustering performance.\n",
        "- It ranges from -1 to 1, with 1 indicating perfect agreement, 0 representing no more agreement than would be expected by chance, and -1 indicating perfect disagreement."
      ],
      "metadata": {
        "id": "fhwP1SYi9Mib"
      }
    },
    {
      "cell_type": "code",
      "source": [
        "adjusted_rand_score(test['Domain'], test['lda_bow_preds'])"
      ],
      "metadata": {
        "colab": {
          "base_uri": "https://localhost:8080/"
        },
        "id": "FJPEQXst6BmE",
        "outputId": "55b460df-8837-4f9e-9a4a-ab7f6dc01ed0"
      },
      "execution_count": null,
      "outputs": [
        {
          "output_type": "execute_result",
          "data": {
            "text/plain": [
              "0.3447295784406358"
            ]
          },
          "metadata": {},
          "execution_count": 30
        }
      ]
    },
    {
      "cell_type": "markdown",
      "source": [
        "Not bad..."
      ],
      "metadata": {
        "id": "1AdXW2PZl2az"
      }
    },
    {
      "cell_type": "markdown",
      "source": [
        "# Now it's your turn!\n",
        "- We chose three topics because that was how many topic domains were in the corpus.\n",
        "  - But we saw that a nine topic solution had better coherence.\n",
        "- Let's try it with nine topics!\n",
        "- Then use `pyLDAvis` to visualize your new model and interpret the topics.\n",
        "- Compare with our original model.\n",
        "  - What changed?\n",
        "  - What stayed the same?\n",
        "\n",
        "- Can you assign values to the topics that match onto the original topics\n",
        "  - History\n",
        "  - Science\n",
        "  - Technology\n",
        "\n",
        "  And run precision, recall, and accuracy again?\n",
        "\n",
        "  If really curious, use a TF-IDF approach."
      ],
      "metadata": {
        "id": "IjvtA5ZS97X2"
      }
    }
  ]
}